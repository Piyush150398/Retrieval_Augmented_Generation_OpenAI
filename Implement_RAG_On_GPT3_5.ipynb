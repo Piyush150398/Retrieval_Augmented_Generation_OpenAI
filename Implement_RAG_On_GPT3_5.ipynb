{
  "nbformat": 4,
  "nbformat_minor": 0,
  "metadata": {
    "colab": {
      "provenance": []
    },
    "kernelspec": {
      "name": "python3",
      "display_name": "Python 3"
    },
    "language_info": {
      "name": "python"
    },
    "widgets": {
      "application/vnd.jupyter.widget-state+json": {
        "b8d4f946a31843968c6c3cf3971177c0": {
          "model_module": "@jupyter-widgets/controls",
          "model_name": "HBoxModel",
          "model_module_version": "1.5.0",
          "state": {
            "_dom_classes": [],
            "_model_module": "@jupyter-widgets/controls",
            "_model_module_version": "1.5.0",
            "_model_name": "HBoxModel",
            "_view_count": null,
            "_view_module": "@jupyter-widgets/controls",
            "_view_module_version": "1.5.0",
            "_view_name": "HBoxView",
            "box_style": "",
            "children": [
              "IPY_MODEL_3caf2619ae8d43f0949c18509ffd190f",
              "IPY_MODEL_8b9e4526c4fb4d0cb2203c68e486d7cc",
              "IPY_MODEL_faf839507d81403cb3a097710c1c7f5f"
            ],
            "layout": "IPY_MODEL_325e796f78fb40aab140ad035ac9fdef"
          }
        },
        "3caf2619ae8d43f0949c18509ffd190f": {
          "model_module": "@jupyter-widgets/controls",
          "model_name": "HTMLModel",
          "model_module_version": "1.5.0",
          "state": {
            "_dom_classes": [],
            "_model_module": "@jupyter-widgets/controls",
            "_model_module_version": "1.5.0",
            "_model_name": "HTMLModel",
            "_view_count": null,
            "_view_module": "@jupyter-widgets/controls",
            "_view_module_version": "1.5.0",
            "_view_name": "HTMLView",
            "description": "",
            "description_tooltip": null,
            "layout": "IPY_MODEL_d8e49eda180d49368b1926640b901c24",
            "placeholder": "​",
            "style": "IPY_MODEL_ce6a4d927d604624a7024e6ae1495079",
            "value": "Downloading readme: 100%"
          }
        },
        "8b9e4526c4fb4d0cb2203c68e486d7cc": {
          "model_module": "@jupyter-widgets/controls",
          "model_name": "FloatProgressModel",
          "model_module_version": "1.5.0",
          "state": {
            "_dom_classes": [],
            "_model_module": "@jupyter-widgets/controls",
            "_model_module_version": "1.5.0",
            "_model_name": "FloatProgressModel",
            "_view_count": null,
            "_view_module": "@jupyter-widgets/controls",
            "_view_module_version": "1.5.0",
            "_view_name": "ProgressView",
            "bar_style": "success",
            "description": "",
            "description_tooltip": null,
            "layout": "IPY_MODEL_42cad2054c284fef80941be929d9f139",
            "max": 409,
            "min": 0,
            "orientation": "horizontal",
            "style": "IPY_MODEL_09bc9d068a0942e79f15a4402527f519",
            "value": 409
          }
        },
        "faf839507d81403cb3a097710c1c7f5f": {
          "model_module": "@jupyter-widgets/controls",
          "model_name": "HTMLModel",
          "model_module_version": "1.5.0",
          "state": {
            "_dom_classes": [],
            "_model_module": "@jupyter-widgets/controls",
            "_model_module_version": "1.5.0",
            "_model_name": "HTMLModel",
            "_view_count": null,
            "_view_module": "@jupyter-widgets/controls",
            "_view_module_version": "1.5.0",
            "_view_name": "HTMLView",
            "description": "",
            "description_tooltip": null,
            "layout": "IPY_MODEL_3e46c7213ca54257aced007bfde6c148",
            "placeholder": "​",
            "style": "IPY_MODEL_cd6bd372ab7d4dbdabd5ed0076ae780d",
            "value": " 409/409 [00:00&lt;00:00, 22.8kB/s]"
          }
        },
        "325e796f78fb40aab140ad035ac9fdef": {
          "model_module": "@jupyter-widgets/base",
          "model_name": "LayoutModel",
          "model_module_version": "1.2.0",
          "state": {
            "_model_module": "@jupyter-widgets/base",
            "_model_module_version": "1.2.0",
            "_model_name": "LayoutModel",
            "_view_count": null,
            "_view_module": "@jupyter-widgets/base",
            "_view_module_version": "1.2.0",
            "_view_name": "LayoutView",
            "align_content": null,
            "align_items": null,
            "align_self": null,
            "border": null,
            "bottom": null,
            "display": null,
            "flex": null,
            "flex_flow": null,
            "grid_area": null,
            "grid_auto_columns": null,
            "grid_auto_flow": null,
            "grid_auto_rows": null,
            "grid_column": null,
            "grid_gap": null,
            "grid_row": null,
            "grid_template_areas": null,
            "grid_template_columns": null,
            "grid_template_rows": null,
            "height": null,
            "justify_content": null,
            "justify_items": null,
            "left": null,
            "margin": null,
            "max_height": null,
            "max_width": null,
            "min_height": null,
            "min_width": null,
            "object_fit": null,
            "object_position": null,
            "order": null,
            "overflow": null,
            "overflow_x": null,
            "overflow_y": null,
            "padding": null,
            "right": null,
            "top": null,
            "visibility": null,
            "width": null
          }
        },
        "d8e49eda180d49368b1926640b901c24": {
          "model_module": "@jupyter-widgets/base",
          "model_name": "LayoutModel",
          "model_module_version": "1.2.0",
          "state": {
            "_model_module": "@jupyter-widgets/base",
            "_model_module_version": "1.2.0",
            "_model_name": "LayoutModel",
            "_view_count": null,
            "_view_module": "@jupyter-widgets/base",
            "_view_module_version": "1.2.0",
            "_view_name": "LayoutView",
            "align_content": null,
            "align_items": null,
            "align_self": null,
            "border": null,
            "bottom": null,
            "display": null,
            "flex": null,
            "flex_flow": null,
            "grid_area": null,
            "grid_auto_columns": null,
            "grid_auto_flow": null,
            "grid_auto_rows": null,
            "grid_column": null,
            "grid_gap": null,
            "grid_row": null,
            "grid_template_areas": null,
            "grid_template_columns": null,
            "grid_template_rows": null,
            "height": null,
            "justify_content": null,
            "justify_items": null,
            "left": null,
            "margin": null,
            "max_height": null,
            "max_width": null,
            "min_height": null,
            "min_width": null,
            "object_fit": null,
            "object_position": null,
            "order": null,
            "overflow": null,
            "overflow_x": null,
            "overflow_y": null,
            "padding": null,
            "right": null,
            "top": null,
            "visibility": null,
            "width": null
          }
        },
        "ce6a4d927d604624a7024e6ae1495079": {
          "model_module": "@jupyter-widgets/controls",
          "model_name": "DescriptionStyleModel",
          "model_module_version": "1.5.0",
          "state": {
            "_model_module": "@jupyter-widgets/controls",
            "_model_module_version": "1.5.0",
            "_model_name": "DescriptionStyleModel",
            "_view_count": null,
            "_view_module": "@jupyter-widgets/base",
            "_view_module_version": "1.2.0",
            "_view_name": "StyleView",
            "description_width": ""
          }
        },
        "42cad2054c284fef80941be929d9f139": {
          "model_module": "@jupyter-widgets/base",
          "model_name": "LayoutModel",
          "model_module_version": "1.2.0",
          "state": {
            "_model_module": "@jupyter-widgets/base",
            "_model_module_version": "1.2.0",
            "_model_name": "LayoutModel",
            "_view_count": null,
            "_view_module": "@jupyter-widgets/base",
            "_view_module_version": "1.2.0",
            "_view_name": "LayoutView",
            "align_content": null,
            "align_items": null,
            "align_self": null,
            "border": null,
            "bottom": null,
            "display": null,
            "flex": null,
            "flex_flow": null,
            "grid_area": null,
            "grid_auto_columns": null,
            "grid_auto_flow": null,
            "grid_auto_rows": null,
            "grid_column": null,
            "grid_gap": null,
            "grid_row": null,
            "grid_template_areas": null,
            "grid_template_columns": null,
            "grid_template_rows": null,
            "height": null,
            "justify_content": null,
            "justify_items": null,
            "left": null,
            "margin": null,
            "max_height": null,
            "max_width": null,
            "min_height": null,
            "min_width": null,
            "object_fit": null,
            "object_position": null,
            "order": null,
            "overflow": null,
            "overflow_x": null,
            "overflow_y": null,
            "padding": null,
            "right": null,
            "top": null,
            "visibility": null,
            "width": null
          }
        },
        "09bc9d068a0942e79f15a4402527f519": {
          "model_module": "@jupyter-widgets/controls",
          "model_name": "ProgressStyleModel",
          "model_module_version": "1.5.0",
          "state": {
            "_model_module": "@jupyter-widgets/controls",
            "_model_module_version": "1.5.0",
            "_model_name": "ProgressStyleModel",
            "_view_count": null,
            "_view_module": "@jupyter-widgets/base",
            "_view_module_version": "1.2.0",
            "_view_name": "StyleView",
            "bar_color": null,
            "description_width": ""
          }
        },
        "3e46c7213ca54257aced007bfde6c148": {
          "model_module": "@jupyter-widgets/base",
          "model_name": "LayoutModel",
          "model_module_version": "1.2.0",
          "state": {
            "_model_module": "@jupyter-widgets/base",
            "_model_module_version": "1.2.0",
            "_model_name": "LayoutModel",
            "_view_count": null,
            "_view_module": "@jupyter-widgets/base",
            "_view_module_version": "1.2.0",
            "_view_name": "LayoutView",
            "align_content": null,
            "align_items": null,
            "align_self": null,
            "border": null,
            "bottom": null,
            "display": null,
            "flex": null,
            "flex_flow": null,
            "grid_area": null,
            "grid_auto_columns": null,
            "grid_auto_flow": null,
            "grid_auto_rows": null,
            "grid_column": null,
            "grid_gap": null,
            "grid_row": null,
            "grid_template_areas": null,
            "grid_template_columns": null,
            "grid_template_rows": null,
            "height": null,
            "justify_content": null,
            "justify_items": null,
            "left": null,
            "margin": null,
            "max_height": null,
            "max_width": null,
            "min_height": null,
            "min_width": null,
            "object_fit": null,
            "object_position": null,
            "order": null,
            "overflow": null,
            "overflow_x": null,
            "overflow_y": null,
            "padding": null,
            "right": null,
            "top": null,
            "visibility": null,
            "width": null
          }
        },
        "cd6bd372ab7d4dbdabd5ed0076ae780d": {
          "model_module": "@jupyter-widgets/controls",
          "model_name": "DescriptionStyleModel",
          "model_module_version": "1.5.0",
          "state": {
            "_model_module": "@jupyter-widgets/controls",
            "_model_module_version": "1.5.0",
            "_model_name": "DescriptionStyleModel",
            "_view_count": null,
            "_view_module": "@jupyter-widgets/base",
            "_view_module_version": "1.2.0",
            "_view_name": "StyleView",
            "description_width": ""
          }
        },
        "f40c4051c71843c3bedd053e038a0861": {
          "model_module": "@jupyter-widgets/controls",
          "model_name": "HBoxModel",
          "model_module_version": "1.5.0",
          "state": {
            "_dom_classes": [],
            "_model_module": "@jupyter-widgets/controls",
            "_model_module_version": "1.5.0",
            "_model_name": "HBoxModel",
            "_view_count": null,
            "_view_module": "@jupyter-widgets/controls",
            "_view_module_version": "1.5.0",
            "_view_name": "HBoxView",
            "box_style": "",
            "children": [
              "IPY_MODEL_310a289978e04e5b94beda46f63b8771",
              "IPY_MODEL_88a19c714632491296bfee85ca780c16",
              "IPY_MODEL_ac4655d7b3ef421ca648427cabf4deb0"
            ],
            "layout": "IPY_MODEL_51e19c253fc34cf29bf95dbd57384bd4"
          }
        },
        "310a289978e04e5b94beda46f63b8771": {
          "model_module": "@jupyter-widgets/controls",
          "model_name": "HTMLModel",
          "model_module_version": "1.5.0",
          "state": {
            "_dom_classes": [],
            "_model_module": "@jupyter-widgets/controls",
            "_model_module_version": "1.5.0",
            "_model_name": "HTMLModel",
            "_view_count": null,
            "_view_module": "@jupyter-widgets/controls",
            "_view_module_version": "1.5.0",
            "_view_name": "HTMLView",
            "description": "",
            "description_tooltip": null,
            "layout": "IPY_MODEL_8cd3a8b731cc48ed8e84e4a2dd8bf264",
            "placeholder": "​",
            "style": "IPY_MODEL_d227814d058c4203965482e4485b6192",
            "value": "Downloading data files: 100%"
          }
        },
        "88a19c714632491296bfee85ca780c16": {
          "model_module": "@jupyter-widgets/controls",
          "model_name": "FloatProgressModel",
          "model_module_version": "1.5.0",
          "state": {
            "_dom_classes": [],
            "_model_module": "@jupyter-widgets/controls",
            "_model_module_version": "1.5.0",
            "_model_name": "FloatProgressModel",
            "_view_count": null,
            "_view_module": "@jupyter-widgets/controls",
            "_view_module_version": "1.5.0",
            "_view_name": "ProgressView",
            "bar_style": "success",
            "description": "",
            "description_tooltip": null,
            "layout": "IPY_MODEL_5206c7eb68df4afdaa139c1bbab5886d",
            "max": 1,
            "min": 0,
            "orientation": "horizontal",
            "style": "IPY_MODEL_4cfaaeeedae54a98b4de372d235445a1",
            "value": 1
          }
        },
        "ac4655d7b3ef421ca648427cabf4deb0": {
          "model_module": "@jupyter-widgets/controls",
          "model_name": "HTMLModel",
          "model_module_version": "1.5.0",
          "state": {
            "_dom_classes": [],
            "_model_module": "@jupyter-widgets/controls",
            "_model_module_version": "1.5.0",
            "_model_name": "HTMLModel",
            "_view_count": null,
            "_view_module": "@jupyter-widgets/controls",
            "_view_module_version": "1.5.0",
            "_view_name": "HTMLView",
            "description": "",
            "description_tooltip": null,
            "layout": "IPY_MODEL_6b0e17c4358f4911b2c1d9a57c6acfab",
            "placeholder": "​",
            "style": "IPY_MODEL_2c08fd5dd2c24328844193b7d428c44d",
            "value": " 1/1 [00:00&lt;00:00,  1.03it/s]"
          }
        },
        "51e19c253fc34cf29bf95dbd57384bd4": {
          "model_module": "@jupyter-widgets/base",
          "model_name": "LayoutModel",
          "model_module_version": "1.2.0",
          "state": {
            "_model_module": "@jupyter-widgets/base",
            "_model_module_version": "1.2.0",
            "_model_name": "LayoutModel",
            "_view_count": null,
            "_view_module": "@jupyter-widgets/base",
            "_view_module_version": "1.2.0",
            "_view_name": "LayoutView",
            "align_content": null,
            "align_items": null,
            "align_self": null,
            "border": null,
            "bottom": null,
            "display": null,
            "flex": null,
            "flex_flow": null,
            "grid_area": null,
            "grid_auto_columns": null,
            "grid_auto_flow": null,
            "grid_auto_rows": null,
            "grid_column": null,
            "grid_gap": null,
            "grid_row": null,
            "grid_template_areas": null,
            "grid_template_columns": null,
            "grid_template_rows": null,
            "height": null,
            "justify_content": null,
            "justify_items": null,
            "left": null,
            "margin": null,
            "max_height": null,
            "max_width": null,
            "min_height": null,
            "min_width": null,
            "object_fit": null,
            "object_position": null,
            "order": null,
            "overflow": null,
            "overflow_x": null,
            "overflow_y": null,
            "padding": null,
            "right": null,
            "top": null,
            "visibility": null,
            "width": null
          }
        },
        "8cd3a8b731cc48ed8e84e4a2dd8bf264": {
          "model_module": "@jupyter-widgets/base",
          "model_name": "LayoutModel",
          "model_module_version": "1.2.0",
          "state": {
            "_model_module": "@jupyter-widgets/base",
            "_model_module_version": "1.2.0",
            "_model_name": "LayoutModel",
            "_view_count": null,
            "_view_module": "@jupyter-widgets/base",
            "_view_module_version": "1.2.0",
            "_view_name": "LayoutView",
            "align_content": null,
            "align_items": null,
            "align_self": null,
            "border": null,
            "bottom": null,
            "display": null,
            "flex": null,
            "flex_flow": null,
            "grid_area": null,
            "grid_auto_columns": null,
            "grid_auto_flow": null,
            "grid_auto_rows": null,
            "grid_column": null,
            "grid_gap": null,
            "grid_row": null,
            "grid_template_areas": null,
            "grid_template_columns": null,
            "grid_template_rows": null,
            "height": null,
            "justify_content": null,
            "justify_items": null,
            "left": null,
            "margin": null,
            "max_height": null,
            "max_width": null,
            "min_height": null,
            "min_width": null,
            "object_fit": null,
            "object_position": null,
            "order": null,
            "overflow": null,
            "overflow_x": null,
            "overflow_y": null,
            "padding": null,
            "right": null,
            "top": null,
            "visibility": null,
            "width": null
          }
        },
        "d227814d058c4203965482e4485b6192": {
          "model_module": "@jupyter-widgets/controls",
          "model_name": "DescriptionStyleModel",
          "model_module_version": "1.5.0",
          "state": {
            "_model_module": "@jupyter-widgets/controls",
            "_model_module_version": "1.5.0",
            "_model_name": "DescriptionStyleModel",
            "_view_count": null,
            "_view_module": "@jupyter-widgets/base",
            "_view_module_version": "1.2.0",
            "_view_name": "StyleView",
            "description_width": ""
          }
        },
        "5206c7eb68df4afdaa139c1bbab5886d": {
          "model_module": "@jupyter-widgets/base",
          "model_name": "LayoutModel",
          "model_module_version": "1.2.0",
          "state": {
            "_model_module": "@jupyter-widgets/base",
            "_model_module_version": "1.2.0",
            "_model_name": "LayoutModel",
            "_view_count": null,
            "_view_module": "@jupyter-widgets/base",
            "_view_module_version": "1.2.0",
            "_view_name": "LayoutView",
            "align_content": null,
            "align_items": null,
            "align_self": null,
            "border": null,
            "bottom": null,
            "display": null,
            "flex": null,
            "flex_flow": null,
            "grid_area": null,
            "grid_auto_columns": null,
            "grid_auto_flow": null,
            "grid_auto_rows": null,
            "grid_column": null,
            "grid_gap": null,
            "grid_row": null,
            "grid_template_areas": null,
            "grid_template_columns": null,
            "grid_template_rows": null,
            "height": null,
            "justify_content": null,
            "justify_items": null,
            "left": null,
            "margin": null,
            "max_height": null,
            "max_width": null,
            "min_height": null,
            "min_width": null,
            "object_fit": null,
            "object_position": null,
            "order": null,
            "overflow": null,
            "overflow_x": null,
            "overflow_y": null,
            "padding": null,
            "right": null,
            "top": null,
            "visibility": null,
            "width": null
          }
        },
        "4cfaaeeedae54a98b4de372d235445a1": {
          "model_module": "@jupyter-widgets/controls",
          "model_name": "ProgressStyleModel",
          "model_module_version": "1.5.0",
          "state": {
            "_model_module": "@jupyter-widgets/controls",
            "_model_module_version": "1.5.0",
            "_model_name": "ProgressStyleModel",
            "_view_count": null,
            "_view_module": "@jupyter-widgets/base",
            "_view_module_version": "1.2.0",
            "_view_name": "StyleView",
            "bar_color": null,
            "description_width": ""
          }
        },
        "6b0e17c4358f4911b2c1d9a57c6acfab": {
          "model_module": "@jupyter-widgets/base",
          "model_name": "LayoutModel",
          "model_module_version": "1.2.0",
          "state": {
            "_model_module": "@jupyter-widgets/base",
            "_model_module_version": "1.2.0",
            "_model_name": "LayoutModel",
            "_view_count": null,
            "_view_module": "@jupyter-widgets/base",
            "_view_module_version": "1.2.0",
            "_view_name": "LayoutView",
            "align_content": null,
            "align_items": null,
            "align_self": null,
            "border": null,
            "bottom": null,
            "display": null,
            "flex": null,
            "flex_flow": null,
            "grid_area": null,
            "grid_auto_columns": null,
            "grid_auto_flow": null,
            "grid_auto_rows": null,
            "grid_column": null,
            "grid_gap": null,
            "grid_row": null,
            "grid_template_areas": null,
            "grid_template_columns": null,
            "grid_template_rows": null,
            "height": null,
            "justify_content": null,
            "justify_items": null,
            "left": null,
            "margin": null,
            "max_height": null,
            "max_width": null,
            "min_height": null,
            "min_width": null,
            "object_fit": null,
            "object_position": null,
            "order": null,
            "overflow": null,
            "overflow_x": null,
            "overflow_y": null,
            "padding": null,
            "right": null,
            "top": null,
            "visibility": null,
            "width": null
          }
        },
        "2c08fd5dd2c24328844193b7d428c44d": {
          "model_module": "@jupyter-widgets/controls",
          "model_name": "DescriptionStyleModel",
          "model_module_version": "1.5.0",
          "state": {
            "_model_module": "@jupyter-widgets/controls",
            "_model_module_version": "1.5.0",
            "_model_name": "DescriptionStyleModel",
            "_view_count": null,
            "_view_module": "@jupyter-widgets/base",
            "_view_module_version": "1.2.0",
            "_view_name": "StyleView",
            "description_width": ""
          }
        },
        "4666dda476d24a3fb6dfa4bf5a891f19": {
          "model_module": "@jupyter-widgets/controls",
          "model_name": "HBoxModel",
          "model_module_version": "1.5.0",
          "state": {
            "_dom_classes": [],
            "_model_module": "@jupyter-widgets/controls",
            "_model_module_version": "1.5.0",
            "_model_name": "HBoxModel",
            "_view_count": null,
            "_view_module": "@jupyter-widgets/controls",
            "_view_module_version": "1.5.0",
            "_view_name": "HBoxView",
            "box_style": "",
            "children": [
              "IPY_MODEL_ff9031d06e9744f78ae5cc9f4e5ae9b0",
              "IPY_MODEL_222d8d59bc47422782d1c0e9163155ba",
              "IPY_MODEL_6d932c8ffd4e4bf0b10bf5bc8b48c066"
            ],
            "layout": "IPY_MODEL_e040d8f23cc1451fa08becee726dfe87"
          }
        },
        "ff9031d06e9744f78ae5cc9f4e5ae9b0": {
          "model_module": "@jupyter-widgets/controls",
          "model_name": "HTMLModel",
          "model_module_version": "1.5.0",
          "state": {
            "_dom_classes": [],
            "_model_module": "@jupyter-widgets/controls",
            "_model_module_version": "1.5.0",
            "_model_name": "HTMLModel",
            "_view_count": null,
            "_view_module": "@jupyter-widgets/controls",
            "_view_module_version": "1.5.0",
            "_view_name": "HTMLView",
            "description": "",
            "description_tooltip": null,
            "layout": "IPY_MODEL_b16c5cdb4d9c421396fdd2ea96f36921",
            "placeholder": "​",
            "style": "IPY_MODEL_7dc767005c8c4827b4e91df7526c4bfc",
            "value": "Downloading data: 100%"
          }
        },
        "222d8d59bc47422782d1c0e9163155ba": {
          "model_module": "@jupyter-widgets/controls",
          "model_name": "FloatProgressModel",
          "model_module_version": "1.5.0",
          "state": {
            "_dom_classes": [],
            "_model_module": "@jupyter-widgets/controls",
            "_model_module_version": "1.5.0",
            "_model_name": "FloatProgressModel",
            "_view_count": null,
            "_view_module": "@jupyter-widgets/controls",
            "_view_module_version": "1.5.0",
            "_view_name": "ProgressView",
            "bar_style": "success",
            "description": "",
            "description_tooltip": null,
            "layout": "IPY_MODEL_bb23e578d25d40928e58d18a5352169a",
            "max": 14417793,
            "min": 0,
            "orientation": "horizontal",
            "style": "IPY_MODEL_6982cdd3b6e943d3a06b3a980723ed36",
            "value": 14417793
          }
        },
        "6d932c8ffd4e4bf0b10bf5bc8b48c066": {
          "model_module": "@jupyter-widgets/controls",
          "model_name": "HTMLModel",
          "model_module_version": "1.5.0",
          "state": {
            "_dom_classes": [],
            "_model_module": "@jupyter-widgets/controls",
            "_model_module_version": "1.5.0",
            "_model_name": "HTMLModel",
            "_view_count": null,
            "_view_module": "@jupyter-widgets/controls",
            "_view_module_version": "1.5.0",
            "_view_name": "HTMLView",
            "description": "",
            "description_tooltip": null,
            "layout": "IPY_MODEL_66ddfe429df945d7a44b69141f875731",
            "placeholder": "​",
            "style": "IPY_MODEL_151a54a89dd04cecb7bfb03f40acfe2d",
            "value": " 14.4M/14.4M [00:00&lt;00:00, 15.2MB/s]"
          }
        },
        "e040d8f23cc1451fa08becee726dfe87": {
          "model_module": "@jupyter-widgets/base",
          "model_name": "LayoutModel",
          "model_module_version": "1.2.0",
          "state": {
            "_model_module": "@jupyter-widgets/base",
            "_model_module_version": "1.2.0",
            "_model_name": "LayoutModel",
            "_view_count": null,
            "_view_module": "@jupyter-widgets/base",
            "_view_module_version": "1.2.0",
            "_view_name": "LayoutView",
            "align_content": null,
            "align_items": null,
            "align_self": null,
            "border": null,
            "bottom": null,
            "display": null,
            "flex": null,
            "flex_flow": null,
            "grid_area": null,
            "grid_auto_columns": null,
            "grid_auto_flow": null,
            "grid_auto_rows": null,
            "grid_column": null,
            "grid_gap": null,
            "grid_row": null,
            "grid_template_areas": null,
            "grid_template_columns": null,
            "grid_template_rows": null,
            "height": null,
            "justify_content": null,
            "justify_items": null,
            "left": null,
            "margin": null,
            "max_height": null,
            "max_width": null,
            "min_height": null,
            "min_width": null,
            "object_fit": null,
            "object_position": null,
            "order": null,
            "overflow": null,
            "overflow_x": null,
            "overflow_y": null,
            "padding": null,
            "right": null,
            "top": null,
            "visibility": null,
            "width": null
          }
        },
        "b16c5cdb4d9c421396fdd2ea96f36921": {
          "model_module": "@jupyter-widgets/base",
          "model_name": "LayoutModel",
          "model_module_version": "1.2.0",
          "state": {
            "_model_module": "@jupyter-widgets/base",
            "_model_module_version": "1.2.0",
            "_model_name": "LayoutModel",
            "_view_count": null,
            "_view_module": "@jupyter-widgets/base",
            "_view_module_version": "1.2.0",
            "_view_name": "LayoutView",
            "align_content": null,
            "align_items": null,
            "align_self": null,
            "border": null,
            "bottom": null,
            "display": null,
            "flex": null,
            "flex_flow": null,
            "grid_area": null,
            "grid_auto_columns": null,
            "grid_auto_flow": null,
            "grid_auto_rows": null,
            "grid_column": null,
            "grid_gap": null,
            "grid_row": null,
            "grid_template_areas": null,
            "grid_template_columns": null,
            "grid_template_rows": null,
            "height": null,
            "justify_content": null,
            "justify_items": null,
            "left": null,
            "margin": null,
            "max_height": null,
            "max_width": null,
            "min_height": null,
            "min_width": null,
            "object_fit": null,
            "object_position": null,
            "order": null,
            "overflow": null,
            "overflow_x": null,
            "overflow_y": null,
            "padding": null,
            "right": null,
            "top": null,
            "visibility": null,
            "width": null
          }
        },
        "7dc767005c8c4827b4e91df7526c4bfc": {
          "model_module": "@jupyter-widgets/controls",
          "model_name": "DescriptionStyleModel",
          "model_module_version": "1.5.0",
          "state": {
            "_model_module": "@jupyter-widgets/controls",
            "_model_module_version": "1.5.0",
            "_model_name": "DescriptionStyleModel",
            "_view_count": null,
            "_view_module": "@jupyter-widgets/base",
            "_view_module_version": "1.2.0",
            "_view_name": "StyleView",
            "description_width": ""
          }
        },
        "bb23e578d25d40928e58d18a5352169a": {
          "model_module": "@jupyter-widgets/base",
          "model_name": "LayoutModel",
          "model_module_version": "1.2.0",
          "state": {
            "_model_module": "@jupyter-widgets/base",
            "_model_module_version": "1.2.0",
            "_model_name": "LayoutModel",
            "_view_count": null,
            "_view_module": "@jupyter-widgets/base",
            "_view_module_version": "1.2.0",
            "_view_name": "LayoutView",
            "align_content": null,
            "align_items": null,
            "align_self": null,
            "border": null,
            "bottom": null,
            "display": null,
            "flex": null,
            "flex_flow": null,
            "grid_area": null,
            "grid_auto_columns": null,
            "grid_auto_flow": null,
            "grid_auto_rows": null,
            "grid_column": null,
            "grid_gap": null,
            "grid_row": null,
            "grid_template_areas": null,
            "grid_template_columns": null,
            "grid_template_rows": null,
            "height": null,
            "justify_content": null,
            "justify_items": null,
            "left": null,
            "margin": null,
            "max_height": null,
            "max_width": null,
            "min_height": null,
            "min_width": null,
            "object_fit": null,
            "object_position": null,
            "order": null,
            "overflow": null,
            "overflow_x": null,
            "overflow_y": null,
            "padding": null,
            "right": null,
            "top": null,
            "visibility": null,
            "width": null
          }
        },
        "6982cdd3b6e943d3a06b3a980723ed36": {
          "model_module": "@jupyter-widgets/controls",
          "model_name": "ProgressStyleModel",
          "model_module_version": "1.5.0",
          "state": {
            "_model_module": "@jupyter-widgets/controls",
            "_model_module_version": "1.5.0",
            "_model_name": "ProgressStyleModel",
            "_view_count": null,
            "_view_module": "@jupyter-widgets/base",
            "_view_module_version": "1.2.0",
            "_view_name": "StyleView",
            "bar_color": null,
            "description_width": ""
          }
        },
        "66ddfe429df945d7a44b69141f875731": {
          "model_module": "@jupyter-widgets/base",
          "model_name": "LayoutModel",
          "model_module_version": "1.2.0",
          "state": {
            "_model_module": "@jupyter-widgets/base",
            "_model_module_version": "1.2.0",
            "_model_name": "LayoutModel",
            "_view_count": null,
            "_view_module": "@jupyter-widgets/base",
            "_view_module_version": "1.2.0",
            "_view_name": "LayoutView",
            "align_content": null,
            "align_items": null,
            "align_self": null,
            "border": null,
            "bottom": null,
            "display": null,
            "flex": null,
            "flex_flow": null,
            "grid_area": null,
            "grid_auto_columns": null,
            "grid_auto_flow": null,
            "grid_auto_rows": null,
            "grid_column": null,
            "grid_gap": null,
            "grid_row": null,
            "grid_template_areas": null,
            "grid_template_columns": null,
            "grid_template_rows": null,
            "height": null,
            "justify_content": null,
            "justify_items": null,
            "left": null,
            "margin": null,
            "max_height": null,
            "max_width": null,
            "min_height": null,
            "min_width": null,
            "object_fit": null,
            "object_position": null,
            "order": null,
            "overflow": null,
            "overflow_x": null,
            "overflow_y": null,
            "padding": null,
            "right": null,
            "top": null,
            "visibility": null,
            "width": null
          }
        },
        "151a54a89dd04cecb7bfb03f40acfe2d": {
          "model_module": "@jupyter-widgets/controls",
          "model_name": "DescriptionStyleModel",
          "model_module_version": "1.5.0",
          "state": {
            "_model_module": "@jupyter-widgets/controls",
            "_model_module_version": "1.5.0",
            "_model_name": "DescriptionStyleModel",
            "_view_count": null,
            "_view_module": "@jupyter-widgets/base",
            "_view_module_version": "1.2.0",
            "_view_name": "StyleView",
            "description_width": ""
          }
        },
        "08da8738b8864a72af21d6e32f115f4e": {
          "model_module": "@jupyter-widgets/controls",
          "model_name": "HBoxModel",
          "model_module_version": "1.5.0",
          "state": {
            "_dom_classes": [],
            "_model_module": "@jupyter-widgets/controls",
            "_model_module_version": "1.5.0",
            "_model_name": "HBoxModel",
            "_view_count": null,
            "_view_module": "@jupyter-widgets/controls",
            "_view_module_version": "1.5.0",
            "_view_name": "HBoxView",
            "box_style": "",
            "children": [
              "IPY_MODEL_8dba3f132c894af881d0ba16743a5cc6",
              "IPY_MODEL_cb9cf86ca87543f4a9c96898e21c945c",
              "IPY_MODEL_fe0ad2c9c65a417ebb47b5e376acf7ed"
            ],
            "layout": "IPY_MODEL_79729ecd87fe4ac59595130d42561481"
          }
        },
        "8dba3f132c894af881d0ba16743a5cc6": {
          "model_module": "@jupyter-widgets/controls",
          "model_name": "HTMLModel",
          "model_module_version": "1.5.0",
          "state": {
            "_dom_classes": [],
            "_model_module": "@jupyter-widgets/controls",
            "_model_module_version": "1.5.0",
            "_model_name": "HTMLModel",
            "_view_count": null,
            "_view_module": "@jupyter-widgets/controls",
            "_view_module_version": "1.5.0",
            "_view_name": "HTMLView",
            "description": "",
            "description_tooltip": null,
            "layout": "IPY_MODEL_72c24164b9004425861b91b972b5314c",
            "placeholder": "​",
            "style": "IPY_MODEL_4bb0b478739143e88ce35c3fc58480d7",
            "value": "Extracting data files: 100%"
          }
        },
        "cb9cf86ca87543f4a9c96898e21c945c": {
          "model_module": "@jupyter-widgets/controls",
          "model_name": "FloatProgressModel",
          "model_module_version": "1.5.0",
          "state": {
            "_dom_classes": [],
            "_model_module": "@jupyter-widgets/controls",
            "_model_module_version": "1.5.0",
            "_model_name": "FloatProgressModel",
            "_view_count": null,
            "_view_module": "@jupyter-widgets/controls",
            "_view_module_version": "1.5.0",
            "_view_name": "ProgressView",
            "bar_style": "success",
            "description": "",
            "description_tooltip": null,
            "layout": "IPY_MODEL_c8878483219643ff914a8bf4fe86923b",
            "max": 1,
            "min": 0,
            "orientation": "horizontal",
            "style": "IPY_MODEL_c4a7349808054138975e07b9792db22f",
            "value": 1
          }
        },
        "fe0ad2c9c65a417ebb47b5e376acf7ed": {
          "model_module": "@jupyter-widgets/controls",
          "model_name": "HTMLModel",
          "model_module_version": "1.5.0",
          "state": {
            "_dom_classes": [],
            "_model_module": "@jupyter-widgets/controls",
            "_model_module_version": "1.5.0",
            "_model_name": "HTMLModel",
            "_view_count": null,
            "_view_module": "@jupyter-widgets/controls",
            "_view_module_version": "1.5.0",
            "_view_name": "HTMLView",
            "description": "",
            "description_tooltip": null,
            "layout": "IPY_MODEL_c46d50739c4f4c10876b69f45dfe0edf",
            "placeholder": "​",
            "style": "IPY_MODEL_33ffc168d3bb4741a1648d1c387dd989",
            "value": " 1/1 [00:00&lt;00:00, 52.58it/s]"
          }
        },
        "79729ecd87fe4ac59595130d42561481": {
          "model_module": "@jupyter-widgets/base",
          "model_name": "LayoutModel",
          "model_module_version": "1.2.0",
          "state": {
            "_model_module": "@jupyter-widgets/base",
            "_model_module_version": "1.2.0",
            "_model_name": "LayoutModel",
            "_view_count": null,
            "_view_module": "@jupyter-widgets/base",
            "_view_module_version": "1.2.0",
            "_view_name": "LayoutView",
            "align_content": null,
            "align_items": null,
            "align_self": null,
            "border": null,
            "bottom": null,
            "display": null,
            "flex": null,
            "flex_flow": null,
            "grid_area": null,
            "grid_auto_columns": null,
            "grid_auto_flow": null,
            "grid_auto_rows": null,
            "grid_column": null,
            "grid_gap": null,
            "grid_row": null,
            "grid_template_areas": null,
            "grid_template_columns": null,
            "grid_template_rows": null,
            "height": null,
            "justify_content": null,
            "justify_items": null,
            "left": null,
            "margin": null,
            "max_height": null,
            "max_width": null,
            "min_height": null,
            "min_width": null,
            "object_fit": null,
            "object_position": null,
            "order": null,
            "overflow": null,
            "overflow_x": null,
            "overflow_y": null,
            "padding": null,
            "right": null,
            "top": null,
            "visibility": null,
            "width": null
          }
        },
        "72c24164b9004425861b91b972b5314c": {
          "model_module": "@jupyter-widgets/base",
          "model_name": "LayoutModel",
          "model_module_version": "1.2.0",
          "state": {
            "_model_module": "@jupyter-widgets/base",
            "_model_module_version": "1.2.0",
            "_model_name": "LayoutModel",
            "_view_count": null,
            "_view_module": "@jupyter-widgets/base",
            "_view_module_version": "1.2.0",
            "_view_name": "LayoutView",
            "align_content": null,
            "align_items": null,
            "align_self": null,
            "border": null,
            "bottom": null,
            "display": null,
            "flex": null,
            "flex_flow": null,
            "grid_area": null,
            "grid_auto_columns": null,
            "grid_auto_flow": null,
            "grid_auto_rows": null,
            "grid_column": null,
            "grid_gap": null,
            "grid_row": null,
            "grid_template_areas": null,
            "grid_template_columns": null,
            "grid_template_rows": null,
            "height": null,
            "justify_content": null,
            "justify_items": null,
            "left": null,
            "margin": null,
            "max_height": null,
            "max_width": null,
            "min_height": null,
            "min_width": null,
            "object_fit": null,
            "object_position": null,
            "order": null,
            "overflow": null,
            "overflow_x": null,
            "overflow_y": null,
            "padding": null,
            "right": null,
            "top": null,
            "visibility": null,
            "width": null
          }
        },
        "4bb0b478739143e88ce35c3fc58480d7": {
          "model_module": "@jupyter-widgets/controls",
          "model_name": "DescriptionStyleModel",
          "model_module_version": "1.5.0",
          "state": {
            "_model_module": "@jupyter-widgets/controls",
            "_model_module_version": "1.5.0",
            "_model_name": "DescriptionStyleModel",
            "_view_count": null,
            "_view_module": "@jupyter-widgets/base",
            "_view_module_version": "1.2.0",
            "_view_name": "StyleView",
            "description_width": ""
          }
        },
        "c8878483219643ff914a8bf4fe86923b": {
          "model_module": "@jupyter-widgets/base",
          "model_name": "LayoutModel",
          "model_module_version": "1.2.0",
          "state": {
            "_model_module": "@jupyter-widgets/base",
            "_model_module_version": "1.2.0",
            "_model_name": "LayoutModel",
            "_view_count": null,
            "_view_module": "@jupyter-widgets/base",
            "_view_module_version": "1.2.0",
            "_view_name": "LayoutView",
            "align_content": null,
            "align_items": null,
            "align_self": null,
            "border": null,
            "bottom": null,
            "display": null,
            "flex": null,
            "flex_flow": null,
            "grid_area": null,
            "grid_auto_columns": null,
            "grid_auto_flow": null,
            "grid_auto_rows": null,
            "grid_column": null,
            "grid_gap": null,
            "grid_row": null,
            "grid_template_areas": null,
            "grid_template_columns": null,
            "grid_template_rows": null,
            "height": null,
            "justify_content": null,
            "justify_items": null,
            "left": null,
            "margin": null,
            "max_height": null,
            "max_width": null,
            "min_height": null,
            "min_width": null,
            "object_fit": null,
            "object_position": null,
            "order": null,
            "overflow": null,
            "overflow_x": null,
            "overflow_y": null,
            "padding": null,
            "right": null,
            "top": null,
            "visibility": null,
            "width": null
          }
        },
        "c4a7349808054138975e07b9792db22f": {
          "model_module": "@jupyter-widgets/controls",
          "model_name": "ProgressStyleModel",
          "model_module_version": "1.5.0",
          "state": {
            "_model_module": "@jupyter-widgets/controls",
            "_model_module_version": "1.5.0",
            "_model_name": "ProgressStyleModel",
            "_view_count": null,
            "_view_module": "@jupyter-widgets/base",
            "_view_module_version": "1.2.0",
            "_view_name": "StyleView",
            "bar_color": null,
            "description_width": ""
          }
        },
        "c46d50739c4f4c10876b69f45dfe0edf": {
          "model_module": "@jupyter-widgets/base",
          "model_name": "LayoutModel",
          "model_module_version": "1.2.0",
          "state": {
            "_model_module": "@jupyter-widgets/base",
            "_model_module_version": "1.2.0",
            "_model_name": "LayoutModel",
            "_view_count": null,
            "_view_module": "@jupyter-widgets/base",
            "_view_module_version": "1.2.0",
            "_view_name": "LayoutView",
            "align_content": null,
            "align_items": null,
            "align_self": null,
            "border": null,
            "bottom": null,
            "display": null,
            "flex": null,
            "flex_flow": null,
            "grid_area": null,
            "grid_auto_columns": null,
            "grid_auto_flow": null,
            "grid_auto_rows": null,
            "grid_column": null,
            "grid_gap": null,
            "grid_row": null,
            "grid_template_areas": null,
            "grid_template_columns": null,
            "grid_template_rows": null,
            "height": null,
            "justify_content": null,
            "justify_items": null,
            "left": null,
            "margin": null,
            "max_height": null,
            "max_width": null,
            "min_height": null,
            "min_width": null,
            "object_fit": null,
            "object_position": null,
            "order": null,
            "overflow": null,
            "overflow_x": null,
            "overflow_y": null,
            "padding": null,
            "right": null,
            "top": null,
            "visibility": null,
            "width": null
          }
        },
        "33ffc168d3bb4741a1648d1c387dd989": {
          "model_module": "@jupyter-widgets/controls",
          "model_name": "DescriptionStyleModel",
          "model_module_version": "1.5.0",
          "state": {
            "_model_module": "@jupyter-widgets/controls",
            "_model_module_version": "1.5.0",
            "_model_name": "DescriptionStyleModel",
            "_view_count": null,
            "_view_module": "@jupyter-widgets/base",
            "_view_module_version": "1.2.0",
            "_view_name": "StyleView",
            "description_width": ""
          }
        },
        "e9777642852340cfbde57379a84a6e9b": {
          "model_module": "@jupyter-widgets/controls",
          "model_name": "HBoxModel",
          "model_module_version": "1.5.0",
          "state": {
            "_dom_classes": [],
            "_model_module": "@jupyter-widgets/controls",
            "_model_module_version": "1.5.0",
            "_model_name": "HBoxModel",
            "_view_count": null,
            "_view_module": "@jupyter-widgets/controls",
            "_view_module_version": "1.5.0",
            "_view_name": "HBoxView",
            "box_style": "",
            "children": [
              "IPY_MODEL_2d09a503e6ff4b5baa9c6821cba51d6d",
              "IPY_MODEL_41cbe871c93d40d7a9b7071c22958c4d",
              "IPY_MODEL_2850a5498ffe463ca51de6a4e8befa3d"
            ],
            "layout": "IPY_MODEL_e992cd744e4646a28ad75db36210ee01"
          }
        },
        "2d09a503e6ff4b5baa9c6821cba51d6d": {
          "model_module": "@jupyter-widgets/controls",
          "model_name": "HTMLModel",
          "model_module_version": "1.5.0",
          "state": {
            "_dom_classes": [],
            "_model_module": "@jupyter-widgets/controls",
            "_model_module_version": "1.5.0",
            "_model_name": "HTMLModel",
            "_view_count": null,
            "_view_module": "@jupyter-widgets/controls",
            "_view_module_version": "1.5.0",
            "_view_name": "HTMLView",
            "description": "",
            "description_tooltip": null,
            "layout": "IPY_MODEL_02a42493b06f4d7eab76327f3e2b0320",
            "placeholder": "​",
            "style": "IPY_MODEL_940c83c588314b2794ede3887858a3df",
            "value": "Generating train split: "
          }
        },
        "41cbe871c93d40d7a9b7071c22958c4d": {
          "model_module": "@jupyter-widgets/controls",
          "model_name": "FloatProgressModel",
          "model_module_version": "1.5.0",
          "state": {
            "_dom_classes": [],
            "_model_module": "@jupyter-widgets/controls",
            "_model_module_version": "1.5.0",
            "_model_name": "FloatProgressModel",
            "_view_count": null,
            "_view_module": "@jupyter-widgets/controls",
            "_view_module_version": "1.5.0",
            "_view_name": "ProgressView",
            "bar_style": "success",
            "description": "",
            "description_tooltip": null,
            "layout": "IPY_MODEL_1e67f9be0ab44efa994d944c6d543c6b",
            "max": 1,
            "min": 0,
            "orientation": "horizontal",
            "style": "IPY_MODEL_a26e0d9fe03544d39f2fbf0d9eb37413",
            "value": 1
          }
        },
        "2850a5498ffe463ca51de6a4e8befa3d": {
          "model_module": "@jupyter-widgets/controls",
          "model_name": "HTMLModel",
          "model_module_version": "1.5.0",
          "state": {
            "_dom_classes": [],
            "_model_module": "@jupyter-widgets/controls",
            "_model_module_version": "1.5.0",
            "_model_name": "HTMLModel",
            "_view_count": null,
            "_view_module": "@jupyter-widgets/controls",
            "_view_module_version": "1.5.0",
            "_view_name": "HTMLView",
            "description": "",
            "description_tooltip": null,
            "layout": "IPY_MODEL_602cba9bb880416284b719e6df1410d3",
            "placeholder": "​",
            "style": "IPY_MODEL_21445bf69e2f4d2da2f5c2d863748b61",
            "value": " 4838/0 [00:00&lt;00:00, 12026.82 examples/s]"
          }
        },
        "e992cd744e4646a28ad75db36210ee01": {
          "model_module": "@jupyter-widgets/base",
          "model_name": "LayoutModel",
          "model_module_version": "1.2.0",
          "state": {
            "_model_module": "@jupyter-widgets/base",
            "_model_module_version": "1.2.0",
            "_model_name": "LayoutModel",
            "_view_count": null,
            "_view_module": "@jupyter-widgets/base",
            "_view_module_version": "1.2.0",
            "_view_name": "LayoutView",
            "align_content": null,
            "align_items": null,
            "align_self": null,
            "border": null,
            "bottom": null,
            "display": null,
            "flex": null,
            "flex_flow": null,
            "grid_area": null,
            "grid_auto_columns": null,
            "grid_auto_flow": null,
            "grid_auto_rows": null,
            "grid_column": null,
            "grid_gap": null,
            "grid_row": null,
            "grid_template_areas": null,
            "grid_template_columns": null,
            "grid_template_rows": null,
            "height": null,
            "justify_content": null,
            "justify_items": null,
            "left": null,
            "margin": null,
            "max_height": null,
            "max_width": null,
            "min_height": null,
            "min_width": null,
            "object_fit": null,
            "object_position": null,
            "order": null,
            "overflow": null,
            "overflow_x": null,
            "overflow_y": null,
            "padding": null,
            "right": null,
            "top": null,
            "visibility": null,
            "width": null
          }
        },
        "02a42493b06f4d7eab76327f3e2b0320": {
          "model_module": "@jupyter-widgets/base",
          "model_name": "LayoutModel",
          "model_module_version": "1.2.0",
          "state": {
            "_model_module": "@jupyter-widgets/base",
            "_model_module_version": "1.2.0",
            "_model_name": "LayoutModel",
            "_view_count": null,
            "_view_module": "@jupyter-widgets/base",
            "_view_module_version": "1.2.0",
            "_view_name": "LayoutView",
            "align_content": null,
            "align_items": null,
            "align_self": null,
            "border": null,
            "bottom": null,
            "display": null,
            "flex": null,
            "flex_flow": null,
            "grid_area": null,
            "grid_auto_columns": null,
            "grid_auto_flow": null,
            "grid_auto_rows": null,
            "grid_column": null,
            "grid_gap": null,
            "grid_row": null,
            "grid_template_areas": null,
            "grid_template_columns": null,
            "grid_template_rows": null,
            "height": null,
            "justify_content": null,
            "justify_items": null,
            "left": null,
            "margin": null,
            "max_height": null,
            "max_width": null,
            "min_height": null,
            "min_width": null,
            "object_fit": null,
            "object_position": null,
            "order": null,
            "overflow": null,
            "overflow_x": null,
            "overflow_y": null,
            "padding": null,
            "right": null,
            "top": null,
            "visibility": null,
            "width": null
          }
        },
        "940c83c588314b2794ede3887858a3df": {
          "model_module": "@jupyter-widgets/controls",
          "model_name": "DescriptionStyleModel",
          "model_module_version": "1.5.0",
          "state": {
            "_model_module": "@jupyter-widgets/controls",
            "_model_module_version": "1.5.0",
            "_model_name": "DescriptionStyleModel",
            "_view_count": null,
            "_view_module": "@jupyter-widgets/base",
            "_view_module_version": "1.2.0",
            "_view_name": "StyleView",
            "description_width": ""
          }
        },
        "1e67f9be0ab44efa994d944c6d543c6b": {
          "model_module": "@jupyter-widgets/base",
          "model_name": "LayoutModel",
          "model_module_version": "1.2.0",
          "state": {
            "_model_module": "@jupyter-widgets/base",
            "_model_module_version": "1.2.0",
            "_model_name": "LayoutModel",
            "_view_count": null,
            "_view_module": "@jupyter-widgets/base",
            "_view_module_version": "1.2.0",
            "_view_name": "LayoutView",
            "align_content": null,
            "align_items": null,
            "align_self": null,
            "border": null,
            "bottom": null,
            "display": null,
            "flex": null,
            "flex_flow": null,
            "grid_area": null,
            "grid_auto_columns": null,
            "grid_auto_flow": null,
            "grid_auto_rows": null,
            "grid_column": null,
            "grid_gap": null,
            "grid_row": null,
            "grid_template_areas": null,
            "grid_template_columns": null,
            "grid_template_rows": null,
            "height": null,
            "justify_content": null,
            "justify_items": null,
            "left": null,
            "margin": null,
            "max_height": null,
            "max_width": null,
            "min_height": null,
            "min_width": null,
            "object_fit": null,
            "object_position": null,
            "order": null,
            "overflow": null,
            "overflow_x": null,
            "overflow_y": null,
            "padding": null,
            "right": null,
            "top": null,
            "visibility": null,
            "width": "20px"
          }
        },
        "a26e0d9fe03544d39f2fbf0d9eb37413": {
          "model_module": "@jupyter-widgets/controls",
          "model_name": "ProgressStyleModel",
          "model_module_version": "1.5.0",
          "state": {
            "_model_module": "@jupyter-widgets/controls",
            "_model_module_version": "1.5.0",
            "_model_name": "ProgressStyleModel",
            "_view_count": null,
            "_view_module": "@jupyter-widgets/base",
            "_view_module_version": "1.2.0",
            "_view_name": "StyleView",
            "bar_color": null,
            "description_width": ""
          }
        },
        "602cba9bb880416284b719e6df1410d3": {
          "model_module": "@jupyter-widgets/base",
          "model_name": "LayoutModel",
          "model_module_version": "1.2.0",
          "state": {
            "_model_module": "@jupyter-widgets/base",
            "_model_module_version": "1.2.0",
            "_model_name": "LayoutModel",
            "_view_count": null,
            "_view_module": "@jupyter-widgets/base",
            "_view_module_version": "1.2.0",
            "_view_name": "LayoutView",
            "align_content": null,
            "align_items": null,
            "align_self": null,
            "border": null,
            "bottom": null,
            "display": null,
            "flex": null,
            "flex_flow": null,
            "grid_area": null,
            "grid_auto_columns": null,
            "grid_auto_flow": null,
            "grid_auto_rows": null,
            "grid_column": null,
            "grid_gap": null,
            "grid_row": null,
            "grid_template_areas": null,
            "grid_template_columns": null,
            "grid_template_rows": null,
            "height": null,
            "justify_content": null,
            "justify_items": null,
            "left": null,
            "margin": null,
            "max_height": null,
            "max_width": null,
            "min_height": null,
            "min_width": null,
            "object_fit": null,
            "object_position": null,
            "order": null,
            "overflow": null,
            "overflow_x": null,
            "overflow_y": null,
            "padding": null,
            "right": null,
            "top": null,
            "visibility": null,
            "width": null
          }
        },
        "21445bf69e2f4d2da2f5c2d863748b61": {
          "model_module": "@jupyter-widgets/controls",
          "model_name": "DescriptionStyleModel",
          "model_module_version": "1.5.0",
          "state": {
            "_model_module": "@jupyter-widgets/controls",
            "_model_module_version": "1.5.0",
            "_model_name": "DescriptionStyleModel",
            "_view_count": null,
            "_view_module": "@jupyter-widgets/base",
            "_view_module_version": "1.2.0",
            "_view_name": "StyleView",
            "description_width": ""
          }
        },
        "3a0a958179fe4c9a9b7311b4e5ec8e17": {
          "model_module": "@jupyter-widgets/controls",
          "model_name": "HBoxModel",
          "model_module_version": "1.5.0",
          "state": {
            "_dom_classes": [],
            "_model_module": "@jupyter-widgets/controls",
            "_model_module_version": "1.5.0",
            "_model_name": "HBoxModel",
            "_view_count": null,
            "_view_module": "@jupyter-widgets/controls",
            "_view_module_version": "1.5.0",
            "_view_name": "HBoxView",
            "box_style": "",
            "children": [
              "IPY_MODEL_5aac156511284f6aa9c2d46b32a6aa47",
              "IPY_MODEL_a26fa326f9bb46f1b8194881436c43c2",
              "IPY_MODEL_15671468fe2b43b2a5e9bda756b77300"
            ],
            "layout": "IPY_MODEL_0e358f6c8556450e8b0417f74729a562"
          }
        },
        "5aac156511284f6aa9c2d46b32a6aa47": {
          "model_module": "@jupyter-widgets/controls",
          "model_name": "HTMLModel",
          "model_module_version": "1.5.0",
          "state": {
            "_dom_classes": [],
            "_model_module": "@jupyter-widgets/controls",
            "_model_module_version": "1.5.0",
            "_model_name": "HTMLModel",
            "_view_count": null,
            "_view_module": "@jupyter-widgets/controls",
            "_view_module_version": "1.5.0",
            "_view_name": "HTMLView",
            "description": "",
            "description_tooltip": null,
            "layout": "IPY_MODEL_66cdb6173bd74f39b9090f68d048bb3c",
            "placeholder": "​",
            "style": "IPY_MODEL_287a5f771b79467b9f14c7135e01109e",
            "value": "100%"
          }
        },
        "a26fa326f9bb46f1b8194881436c43c2": {
          "model_module": "@jupyter-widgets/controls",
          "model_name": "FloatProgressModel",
          "model_module_version": "1.5.0",
          "state": {
            "_dom_classes": [],
            "_model_module": "@jupyter-widgets/controls",
            "_model_module_version": "1.5.0",
            "_model_name": "FloatProgressModel",
            "_view_count": null,
            "_view_module": "@jupyter-widgets/controls",
            "_view_module_version": "1.5.0",
            "_view_name": "ProgressView",
            "bar_style": "success",
            "description": "",
            "description_tooltip": null,
            "layout": "IPY_MODEL_b6c2905e9a8a40d8be6caea9076fe4b2",
            "max": 49,
            "min": 0,
            "orientation": "horizontal",
            "style": "IPY_MODEL_8dc67cad9b0a4fdea977729a50aa2bef",
            "value": 49
          }
        },
        "15671468fe2b43b2a5e9bda756b77300": {
          "model_module": "@jupyter-widgets/controls",
          "model_name": "HTMLModel",
          "model_module_version": "1.5.0",
          "state": {
            "_dom_classes": [],
            "_model_module": "@jupyter-widgets/controls",
            "_model_module_version": "1.5.0",
            "_model_name": "HTMLModel",
            "_view_count": null,
            "_view_module": "@jupyter-widgets/controls",
            "_view_module_version": "1.5.0",
            "_view_name": "HTMLView",
            "description": "",
            "description_tooltip": null,
            "layout": "IPY_MODEL_69efcafae5e948578f34d1bfd71a2030",
            "placeholder": "​",
            "style": "IPY_MODEL_1a230a0f02af457080f7dd0ab444e7e3",
            "value": " 49/49 [02:01&lt;00:00,  1.76s/it]"
          }
        },
        "0e358f6c8556450e8b0417f74729a562": {
          "model_module": "@jupyter-widgets/base",
          "model_name": "LayoutModel",
          "model_module_version": "1.2.0",
          "state": {
            "_model_module": "@jupyter-widgets/base",
            "_model_module_version": "1.2.0",
            "_model_name": "LayoutModel",
            "_view_count": null,
            "_view_module": "@jupyter-widgets/base",
            "_view_module_version": "1.2.0",
            "_view_name": "LayoutView",
            "align_content": null,
            "align_items": null,
            "align_self": null,
            "border": null,
            "bottom": null,
            "display": null,
            "flex": null,
            "flex_flow": null,
            "grid_area": null,
            "grid_auto_columns": null,
            "grid_auto_flow": null,
            "grid_auto_rows": null,
            "grid_column": null,
            "grid_gap": null,
            "grid_row": null,
            "grid_template_areas": null,
            "grid_template_columns": null,
            "grid_template_rows": null,
            "height": null,
            "justify_content": null,
            "justify_items": null,
            "left": null,
            "margin": null,
            "max_height": null,
            "max_width": null,
            "min_height": null,
            "min_width": null,
            "object_fit": null,
            "object_position": null,
            "order": null,
            "overflow": null,
            "overflow_x": null,
            "overflow_y": null,
            "padding": null,
            "right": null,
            "top": null,
            "visibility": null,
            "width": null
          }
        },
        "66cdb6173bd74f39b9090f68d048bb3c": {
          "model_module": "@jupyter-widgets/base",
          "model_name": "LayoutModel",
          "model_module_version": "1.2.0",
          "state": {
            "_model_module": "@jupyter-widgets/base",
            "_model_module_version": "1.2.0",
            "_model_name": "LayoutModel",
            "_view_count": null,
            "_view_module": "@jupyter-widgets/base",
            "_view_module_version": "1.2.0",
            "_view_name": "LayoutView",
            "align_content": null,
            "align_items": null,
            "align_self": null,
            "border": null,
            "bottom": null,
            "display": null,
            "flex": null,
            "flex_flow": null,
            "grid_area": null,
            "grid_auto_columns": null,
            "grid_auto_flow": null,
            "grid_auto_rows": null,
            "grid_column": null,
            "grid_gap": null,
            "grid_row": null,
            "grid_template_areas": null,
            "grid_template_columns": null,
            "grid_template_rows": null,
            "height": null,
            "justify_content": null,
            "justify_items": null,
            "left": null,
            "margin": null,
            "max_height": null,
            "max_width": null,
            "min_height": null,
            "min_width": null,
            "object_fit": null,
            "object_position": null,
            "order": null,
            "overflow": null,
            "overflow_x": null,
            "overflow_y": null,
            "padding": null,
            "right": null,
            "top": null,
            "visibility": null,
            "width": null
          }
        },
        "287a5f771b79467b9f14c7135e01109e": {
          "model_module": "@jupyter-widgets/controls",
          "model_name": "DescriptionStyleModel",
          "model_module_version": "1.5.0",
          "state": {
            "_model_module": "@jupyter-widgets/controls",
            "_model_module_version": "1.5.0",
            "_model_name": "DescriptionStyleModel",
            "_view_count": null,
            "_view_module": "@jupyter-widgets/base",
            "_view_module_version": "1.2.0",
            "_view_name": "StyleView",
            "description_width": ""
          }
        },
        "b6c2905e9a8a40d8be6caea9076fe4b2": {
          "model_module": "@jupyter-widgets/base",
          "model_name": "LayoutModel",
          "model_module_version": "1.2.0",
          "state": {
            "_model_module": "@jupyter-widgets/base",
            "_model_module_version": "1.2.0",
            "_model_name": "LayoutModel",
            "_view_count": null,
            "_view_module": "@jupyter-widgets/base",
            "_view_module_version": "1.2.0",
            "_view_name": "LayoutView",
            "align_content": null,
            "align_items": null,
            "align_self": null,
            "border": null,
            "bottom": null,
            "display": null,
            "flex": null,
            "flex_flow": null,
            "grid_area": null,
            "grid_auto_columns": null,
            "grid_auto_flow": null,
            "grid_auto_rows": null,
            "grid_column": null,
            "grid_gap": null,
            "grid_row": null,
            "grid_template_areas": null,
            "grid_template_columns": null,
            "grid_template_rows": null,
            "height": null,
            "justify_content": null,
            "justify_items": null,
            "left": null,
            "margin": null,
            "max_height": null,
            "max_width": null,
            "min_height": null,
            "min_width": null,
            "object_fit": null,
            "object_position": null,
            "order": null,
            "overflow": null,
            "overflow_x": null,
            "overflow_y": null,
            "padding": null,
            "right": null,
            "top": null,
            "visibility": null,
            "width": null
          }
        },
        "8dc67cad9b0a4fdea977729a50aa2bef": {
          "model_module": "@jupyter-widgets/controls",
          "model_name": "ProgressStyleModel",
          "model_module_version": "1.5.0",
          "state": {
            "_model_module": "@jupyter-widgets/controls",
            "_model_module_version": "1.5.0",
            "_model_name": "ProgressStyleModel",
            "_view_count": null,
            "_view_module": "@jupyter-widgets/base",
            "_view_module_version": "1.2.0",
            "_view_name": "StyleView",
            "bar_color": null,
            "description_width": ""
          }
        },
        "69efcafae5e948578f34d1bfd71a2030": {
          "model_module": "@jupyter-widgets/base",
          "model_name": "LayoutModel",
          "model_module_version": "1.2.0",
          "state": {
            "_model_module": "@jupyter-widgets/base",
            "_model_module_version": "1.2.0",
            "_model_name": "LayoutModel",
            "_view_count": null,
            "_view_module": "@jupyter-widgets/base",
            "_view_module_version": "1.2.0",
            "_view_name": "LayoutView",
            "align_content": null,
            "align_items": null,
            "align_self": null,
            "border": null,
            "bottom": null,
            "display": null,
            "flex": null,
            "flex_flow": null,
            "grid_area": null,
            "grid_auto_columns": null,
            "grid_auto_flow": null,
            "grid_auto_rows": null,
            "grid_column": null,
            "grid_gap": null,
            "grid_row": null,
            "grid_template_areas": null,
            "grid_template_columns": null,
            "grid_template_rows": null,
            "height": null,
            "justify_content": null,
            "justify_items": null,
            "left": null,
            "margin": null,
            "max_height": null,
            "max_width": null,
            "min_height": null,
            "min_width": null,
            "object_fit": null,
            "object_position": null,
            "order": null,
            "overflow": null,
            "overflow_x": null,
            "overflow_y": null,
            "padding": null,
            "right": null,
            "top": null,
            "visibility": null,
            "width": null
          }
        },
        "1a230a0f02af457080f7dd0ab444e7e3": {
          "model_module": "@jupyter-widgets/controls",
          "model_name": "DescriptionStyleModel",
          "model_module_version": "1.5.0",
          "state": {
            "_model_module": "@jupyter-widgets/controls",
            "_model_module_version": "1.5.0",
            "_model_name": "DescriptionStyleModel",
            "_view_count": null,
            "_view_module": "@jupyter-widgets/base",
            "_view_module_version": "1.2.0",
            "_view_name": "StyleView",
            "description_width": ""
          }
        }
      }
    }
  },
  "cells": [
    {
      "cell_type": "markdown",
      "source": [
        "## **Prerequistes**\n",
        "\n",
        "For building our chabot, We need the following libraries\n",
        "\n",
        "\n",
        "\n",
        "*   langchain : his is a library for GenAI. We'll use it to chain together different language models and components for our chatbot.\n",
        "*   openai : This is the official OpenAI Python client. We'll use it to interact with the OpenAI API and generate responses for our chatbot.\n",
        "\n",
        "*   datasets : This library provides a vast array of datasets for machine learning. We'll use it to load our knowledge base for the chatbot.\n",
        "*   pinecone-client : his is the official Pinecone Python client. We'll use it to interact with the Pinecone API and store our chatbot's knowledge base in a vector database.\n",
        "\n",
        "\n",
        "\n",
        "\n",
        "\n"
      ],
      "metadata": {
        "id": "QR2TmHbN1RCz"
      }
    },
    {
      "cell_type": "code",
      "source": [
        "pip install langchain openai datasets pinecone-client tiktoken"
      ],
      "metadata": {
        "colab": {
          "base_uri": "https://localhost:8080/"
        },
        "id": "-tJk-6tj2Xlj",
        "outputId": "069b5a56-f120-456c-a521-69c20ba4972b"
      },
      "execution_count": null,
      "outputs": [
        {
          "output_type": "stream",
          "name": "stdout",
          "text": [
            "Collecting langchain\n",
            "  Downloading langchain-0.0.350-py3-none-any.whl (809 kB)\n",
            "\u001b[2K     \u001b[90m━━━━━━━━━━━━━━━━━━━━━━━━━━━━━━━━━━━━━━━━\u001b[0m \u001b[32m809.1/809.1 kB\u001b[0m \u001b[31m12.0 MB/s\u001b[0m eta \u001b[36m0:00:00\u001b[0m\n",
            "\u001b[?25hCollecting openai\n",
            "  Downloading openai-1.3.9-py3-none-any.whl (221 kB)\n",
            "\u001b[2K     \u001b[90m━━━━━━━━━━━━━━━━━━━━━━━━━━━━━━━━━━━━━━━━\u001b[0m \u001b[32m221.4/221.4 kB\u001b[0m \u001b[31m26.1 MB/s\u001b[0m eta \u001b[36m0:00:00\u001b[0m\n",
            "\u001b[?25hCollecting datasets\n",
            "  Downloading datasets-2.15.0-py3-none-any.whl (521 kB)\n",
            "\u001b[2K     \u001b[90m━━━━━━━━━━━━━━━━━━━━━━━━━━━━━━━━━━━━━━━━\u001b[0m \u001b[32m521.2/521.2 kB\u001b[0m \u001b[31m46.9 MB/s\u001b[0m eta \u001b[36m0:00:00\u001b[0m\n",
            "\u001b[?25hCollecting pinecone-client\n",
            "  Downloading pinecone_client-2.2.4-py3-none-any.whl (179 kB)\n",
            "\u001b[2K     \u001b[90m━━━━━━━━━━━━━━━━━━━━━━━━━━━━━━━━━━━━━━━━\u001b[0m \u001b[32m179.4/179.4 kB\u001b[0m \u001b[31m21.5 MB/s\u001b[0m eta \u001b[36m0:00:00\u001b[0m\n",
            "\u001b[?25hCollecting tiktoken\n",
            "  Downloading tiktoken-0.5.2-cp310-cp310-manylinux_2_17_x86_64.manylinux2014_x86_64.whl (2.0 MB)\n",
            "\u001b[2K     \u001b[90m━━━━━━━━━━━━━━━━━━━━━━━━━━━━━━━━━━━━━━━━\u001b[0m \u001b[32m2.0/2.0 MB\u001b[0m \u001b[31m69.5 MB/s\u001b[0m eta \u001b[36m0:00:00\u001b[0m\n",
            "\u001b[?25hRequirement already satisfied: PyYAML>=5.3 in /usr/local/lib/python3.10/dist-packages (from langchain) (6.0.1)\n",
            "Requirement already satisfied: SQLAlchemy<3,>=1.4 in /usr/local/lib/python3.10/dist-packages (from langchain) (2.0.23)\n",
            "Requirement already satisfied: aiohttp<4.0.0,>=3.8.3 in /usr/local/lib/python3.10/dist-packages (from langchain) (3.9.1)\n",
            "Requirement already satisfied: async-timeout<5.0.0,>=4.0.0 in /usr/local/lib/python3.10/dist-packages (from langchain) (4.0.3)\n",
            "Collecting dataclasses-json<0.7,>=0.5.7 (from langchain)\n",
            "  Downloading dataclasses_json-0.6.3-py3-none-any.whl (28 kB)\n",
            "Collecting jsonpatch<2.0,>=1.33 (from langchain)\n",
            "  Downloading jsonpatch-1.33-py2.py3-none-any.whl (12 kB)\n",
            "Collecting langchain-community<0.1,>=0.0.2 (from langchain)\n",
            "  Downloading langchain_community-0.0.2-py3-none-any.whl (1.5 MB)\n",
            "\u001b[2K     \u001b[90m━━━━━━━━━━━━━━━━━━━━━━━━━━━━━━━━━━━━━━━━\u001b[0m \u001b[32m1.5/1.5 MB\u001b[0m \u001b[31m83.9 MB/s\u001b[0m eta \u001b[36m0:00:00\u001b[0m\n",
            "\u001b[?25hCollecting langchain-core<0.2,>=0.1 (from langchain)\n",
            "  Downloading langchain_core-0.1.0-py3-none-any.whl (189 kB)\n",
            "\u001b[2K     \u001b[90m━━━━━━━━━━━━━━━━━━━━━━━━━━━━━━━━━━━━━━━━\u001b[0m \u001b[32m189.1/189.1 kB\u001b[0m \u001b[31m22.8 MB/s\u001b[0m eta \u001b[36m0:00:00\u001b[0m\n",
            "\u001b[?25hCollecting langsmith<0.1.0,>=0.0.63 (from langchain)\n",
            "  Downloading langsmith-0.0.69-py3-none-any.whl (48 kB)\n",
            "\u001b[2K     \u001b[90m━━━━━━━━━━━━━━━━━━━━━━━━━━━━━━━━━━━━━━━━\u001b[0m \u001b[32m48.2/48.2 kB\u001b[0m \u001b[31m6.1 MB/s\u001b[0m eta \u001b[36m0:00:00\u001b[0m\n",
            "\u001b[?25hRequirement already satisfied: numpy<2,>=1 in /usr/local/lib/python3.10/dist-packages (from langchain) (1.23.5)\n",
            "Requirement already satisfied: pydantic<3,>=1 in /usr/local/lib/python3.10/dist-packages (from langchain) (1.10.13)\n",
            "Requirement already satisfied: requests<3,>=2 in /usr/local/lib/python3.10/dist-packages (from langchain) (2.31.0)\n",
            "Requirement already satisfied: tenacity<9.0.0,>=8.1.0 in /usr/local/lib/python3.10/dist-packages (from langchain) (8.2.3)\n",
            "Requirement already satisfied: anyio<5,>=3.5.0 in /usr/local/lib/python3.10/dist-packages (from openai) (3.7.1)\n",
            "Requirement already satisfied: distro<2,>=1.7.0 in /usr/lib/python3/dist-packages (from openai) (1.7.0)\n",
            "Collecting httpx<1,>=0.23.0 (from openai)\n",
            "  Downloading httpx-0.25.2-py3-none-any.whl (74 kB)\n",
            "\u001b[2K     \u001b[90m━━━━━━━━━━━━━━━━━━━━━━━━━━━━━━━━━━━━━━━━\u001b[0m \u001b[32m75.0/75.0 kB\u001b[0m \u001b[31m9.1 MB/s\u001b[0m eta \u001b[36m0:00:00\u001b[0m\n",
            "\u001b[?25hRequirement already satisfied: sniffio in /usr/local/lib/python3.10/dist-packages (from openai) (1.3.0)\n",
            "Requirement already satisfied: tqdm>4 in /usr/local/lib/python3.10/dist-packages (from openai) (4.66.1)\n",
            "Requirement already satisfied: typing-extensions<5,>=4.5 in /usr/local/lib/python3.10/dist-packages (from openai) (4.5.0)\n",
            "Requirement already satisfied: pyarrow>=8.0.0 in /usr/local/lib/python3.10/dist-packages (from datasets) (10.0.1)\n",
            "Collecting pyarrow-hotfix (from datasets)\n",
            "  Downloading pyarrow_hotfix-0.6-py3-none-any.whl (7.9 kB)\n",
            "Collecting dill<0.3.8,>=0.3.0 (from datasets)\n",
            "  Downloading dill-0.3.7-py3-none-any.whl (115 kB)\n",
            "\u001b[2K     \u001b[90m━━━━━━━━━━━━━━━━━━━━━━━━━━━━━━━━━━━━━━━━\u001b[0m \u001b[32m115.3/115.3 kB\u001b[0m \u001b[31m14.7 MB/s\u001b[0m eta \u001b[36m0:00:00\u001b[0m\n",
            "\u001b[?25hRequirement already satisfied: pandas in /usr/local/lib/python3.10/dist-packages (from datasets) (1.5.3)\n",
            "Requirement already satisfied: xxhash in /usr/local/lib/python3.10/dist-packages (from datasets) (3.4.1)\n",
            "Collecting multiprocess (from datasets)\n",
            "  Downloading multiprocess-0.70.15-py310-none-any.whl (134 kB)\n",
            "\u001b[2K     \u001b[90m━━━━━━━━━━━━━━━━━━━━━━━━━━━━━━━━━━━━━━━━\u001b[0m \u001b[32m134.8/134.8 kB\u001b[0m \u001b[31m15.9 MB/s\u001b[0m eta \u001b[36m0:00:00\u001b[0m\n",
            "\u001b[?25hRequirement already satisfied: fsspec[http]<=2023.10.0,>=2023.1.0 in /usr/local/lib/python3.10/dist-packages (from datasets) (2023.6.0)\n",
            "Requirement already satisfied: huggingface-hub>=0.18.0 in /usr/local/lib/python3.10/dist-packages (from datasets) (0.19.4)\n",
            "Requirement already satisfied: packaging in /usr/local/lib/python3.10/dist-packages (from datasets) (23.2)\n",
            "Collecting loguru>=0.5.0 (from pinecone-client)\n",
            "  Downloading loguru-0.7.2-py3-none-any.whl (62 kB)\n",
            "\u001b[2K     \u001b[90m━━━━━━━━━━━━━━━━━━━━━━━━━━━━━━━━━━━━━━━━\u001b[0m \u001b[32m62.5/62.5 kB\u001b[0m \u001b[31m7.9 MB/s\u001b[0m eta \u001b[36m0:00:00\u001b[0m\n",
            "\u001b[?25hCollecting dnspython>=2.0.0 (from pinecone-client)\n",
            "  Downloading dnspython-2.4.2-py3-none-any.whl (300 kB)\n",
            "\u001b[2K     \u001b[90m━━━━━━━━━━━━━━━━━━━━━━━━━━━━━━━━━━━━━━━━\u001b[0m \u001b[32m300.4/300.4 kB\u001b[0m \u001b[31m22.1 MB/s\u001b[0m eta \u001b[36m0:00:00\u001b[0m\n",
            "\u001b[?25hRequirement already satisfied: python-dateutil>=2.5.3 in /usr/local/lib/python3.10/dist-packages (from pinecone-client) (2.8.2)\n",
            "Requirement already satisfied: urllib3>=1.21.1 in /usr/local/lib/python3.10/dist-packages (from pinecone-client) (2.0.7)\n",
            "Requirement already satisfied: regex>=2022.1.18 in /usr/local/lib/python3.10/dist-packages (from tiktoken) (2023.6.3)\n",
            "Requirement already satisfied: attrs>=17.3.0 in /usr/local/lib/python3.10/dist-packages (from aiohttp<4.0.0,>=3.8.3->langchain) (23.1.0)\n",
            "Requirement already satisfied: multidict<7.0,>=4.5 in /usr/local/lib/python3.10/dist-packages (from aiohttp<4.0.0,>=3.8.3->langchain) (6.0.4)\n",
            "Requirement already satisfied: yarl<2.0,>=1.0 in /usr/local/lib/python3.10/dist-packages (from aiohttp<4.0.0,>=3.8.3->langchain) (1.9.3)\n",
            "Requirement already satisfied: frozenlist>=1.1.1 in /usr/local/lib/python3.10/dist-packages (from aiohttp<4.0.0,>=3.8.3->langchain) (1.4.0)\n",
            "Requirement already satisfied: aiosignal>=1.1.2 in /usr/local/lib/python3.10/dist-packages (from aiohttp<4.0.0,>=3.8.3->langchain) (1.3.1)\n",
            "Requirement already satisfied: idna>=2.8 in /usr/local/lib/python3.10/dist-packages (from anyio<5,>=3.5.0->openai) (3.6)\n",
            "Requirement already satisfied: exceptiongroup in /usr/local/lib/python3.10/dist-packages (from anyio<5,>=3.5.0->openai) (1.2.0)\n",
            "Collecting marshmallow<4.0.0,>=3.18.0 (from dataclasses-json<0.7,>=0.5.7->langchain)\n",
            "  Downloading marshmallow-3.20.1-py3-none-any.whl (49 kB)\n",
            "\u001b[2K     \u001b[90m━━━━━━━━━━━━━━━━━━━━━━━━━━━━━━━━━━━━━━━━\u001b[0m \u001b[32m49.4/49.4 kB\u001b[0m \u001b[31m5.8 MB/s\u001b[0m eta \u001b[36m0:00:00\u001b[0m\n",
            "\u001b[?25hCollecting typing-inspect<1,>=0.4.0 (from dataclasses-json<0.7,>=0.5.7->langchain)\n",
            "  Downloading typing_inspect-0.9.0-py3-none-any.whl (8.8 kB)\n",
            "Requirement already satisfied: certifi in /usr/local/lib/python3.10/dist-packages (from httpx<1,>=0.23.0->openai) (2023.11.17)\n",
            "Collecting httpcore==1.* (from httpx<1,>=0.23.0->openai)\n",
            "  Downloading httpcore-1.0.2-py3-none-any.whl (76 kB)\n",
            "\u001b[2K     \u001b[90m━━━━━━━━━━━━━━━━━━━━━━━━━━━━━━━━━━━━━━━━\u001b[0m \u001b[32m76.9/76.9 kB\u001b[0m \u001b[31m9.5 MB/s\u001b[0m eta \u001b[36m0:00:00\u001b[0m\n",
            "\u001b[?25hCollecting h11<0.15,>=0.13 (from httpcore==1.*->httpx<1,>=0.23.0->openai)\n",
            "  Downloading h11-0.14.0-py3-none-any.whl (58 kB)\n",
            "\u001b[2K     \u001b[90m━━━━━━━━━━━━━━━━━━━━━━━━━━━━━━━━━━━━━━━━\u001b[0m \u001b[32m58.3/58.3 kB\u001b[0m \u001b[31m6.9 MB/s\u001b[0m eta \u001b[36m0:00:00\u001b[0m\n",
            "\u001b[?25hRequirement already satisfied: filelock in /usr/local/lib/python3.10/dist-packages (from huggingface-hub>=0.18.0->datasets) (3.13.1)\n",
            "Collecting jsonpointer>=1.9 (from jsonpatch<2.0,>=1.33->langchain)\n",
            "  Downloading jsonpointer-2.4-py2.py3-none-any.whl (7.8 kB)\n",
            "Requirement already satisfied: six>=1.5 in /usr/local/lib/python3.10/dist-packages (from python-dateutil>=2.5.3->pinecone-client) (1.16.0)\n",
            "Requirement already satisfied: charset-normalizer<4,>=2 in /usr/local/lib/python3.10/dist-packages (from requests<3,>=2->langchain) (3.3.2)\n",
            "Requirement already satisfied: greenlet!=0.4.17 in /usr/local/lib/python3.10/dist-packages (from SQLAlchemy<3,>=1.4->langchain) (3.0.1)\n",
            "Requirement already satisfied: pytz>=2020.1 in /usr/local/lib/python3.10/dist-packages (from pandas->datasets) (2023.3.post1)\n",
            "Collecting mypy-extensions>=0.3.0 (from typing-inspect<1,>=0.4.0->dataclasses-json<0.7,>=0.5.7->langchain)\n",
            "  Downloading mypy_extensions-1.0.0-py3-none-any.whl (4.7 kB)\n",
            "Installing collected packages: pyarrow-hotfix, mypy-extensions, marshmallow, loguru, jsonpointer, h11, dnspython, dill, typing-inspect, tiktoken, pinecone-client, multiprocess, langsmith, jsonpatch, httpcore, langchain-core, httpx, dataclasses-json, openai, langchain-community, datasets, langchain\n",
            "\u001b[31mERROR: pip's dependency resolver does not currently take into account all the packages that are installed. This behaviour is the source of the following dependency conflicts.\n",
            "llmx 0.0.15a0 requires cohere, which is not installed.\u001b[0m\u001b[31m\n",
            "\u001b[0mSuccessfully installed dataclasses-json-0.6.3 datasets-2.15.0 dill-0.3.7 dnspython-2.4.2 h11-0.14.0 httpcore-1.0.2 httpx-0.25.2 jsonpatch-1.33 jsonpointer-2.4 langchain-0.0.350 langchain-community-0.0.2 langchain-core-0.1.0 langsmith-0.0.69 loguru-0.7.2 marshmallow-3.20.1 multiprocess-0.70.15 mypy-extensions-1.0.0 openai-1.3.9 pinecone-client-2.2.4 pyarrow-hotfix-0.6 tiktoken-0.5.2 typing-inspect-0.9.0\n"
          ]
        }
      ]
    },
    {
      "cell_type": "markdown",
      "source": [
        "# **Building a chatbot with no RAG**\n",
        "\n",
        "So here we will use the LangChain library with the OpenAI API key. By using above library we will build a chatbot without RAG"
      ],
      "metadata": {
        "id": "__RwgUYF2vgT"
      }
    },
    {
      "cell_type": "code",
      "source": [
        "import os\n",
        "from langchain.chat_models import  ChatOpenAI\n",
        "\n",
        "# os.environ['OPENAI_API_KEY'] = os.getenv(\"OPENAI_API_KEY\")\n",
        "from google.colab import userdata\n",
        "key=userdata.get('OPENAI_API_KEY')\n",
        "\n",
        "chat = ChatOpenAI(\n",
        "    openai_api_key = key,\n",
        "    model=\"gpt-3.5-turbo\"\n",
        ")"
      ],
      "metadata": {
        "id": "0hc-zC764TRD"
      },
      "execution_count": null,
      "outputs": []
    },
    {
      "cell_type": "code",
      "source": [
        "from langchain.schema import(\n",
        "    SystemMessage,\n",
        "    HumanMessage,\n",
        "    AIMessage\n",
        ")\n",
        "\n",
        "messages = [\n",
        "    SystemMessage(content=\"You are a helpful assistant.\"),\n",
        "    HumanMessage(content=\"Hi AI, how are you today?\"),\n",
        "    AIMessage(content=\"I'm great thank you. How can I help you?\"),\n",
        "    HumanMessage(content=\"I'd like to understand string theory.\")\n",
        "]"
      ],
      "metadata": {
        "id": "qOx2ImLn-pGr"
      },
      "execution_count": null,
      "outputs": []
    },
    {
      "cell_type": "markdown",
      "source": [
        "We generate the next response from the AI by passing these messages to the **ChatOpenAI** object."
      ],
      "metadata": {
        "id": "4zw06h7M_gYB"
      }
    },
    {
      "cell_type": "code",
      "source": [
        "response1 = chat(messages)\n",
        "response1"
      ],
      "metadata": {
        "colab": {
          "base_uri": "https://localhost:8080/"
        },
        "id": "sPLibOWm_i-S",
        "outputId": "1151d8df-1111-4510-97c0-e483e8bd6a29"
      },
      "execution_count": null,
      "outputs": [
        {
          "output_type": "execute_result",
          "data": {
            "text/plain": [
              "AIMessage(content=\"String theory is a theoretical framework in physics that aims to explain the fundamental nature of particles and their interactions. It suggests that particles, rather than being point-like objects, are actually tiny, vibrating strings. These strings can vibrate in different ways, giving rise to different particles with varying properties.\\n\\nHere are some key points about string theory:\\n\\n1. Dimensions: String theory requires more than the usual four dimensions (three spatial dimensions and one time dimension) of our everyday experience. It suggests that there are additional hidden dimensions, possibly curled up and too small to be observed directly.\\n\\n2. Quantum Mechanics: String theory incorporates quantum mechanics, which deals with the behavior of matter and energy at the smallest scales. It provides a consistent framework to describe both particles and their interactions.\\n\\n3. Unifying Forces: One of the main goals of string theory is to unify the four fundamental forces of nature: gravity, electromagnetism, and the strong and weak nuclear forces. In this framework, all these forces emerge as different manifestations of string vibrations.\\n\\n4. Supersymmetry: String theory suggests the existence of supersymmetry, a hypothetical symmetry between particles with different spins. Supersymmetry could help resolve some issues in particle physics, such as the hierarchy problem and the nature of dark matter.\\n\\n5. Multiple Versions: There are several versions of string theory, including Type I, Type IIA, Type IIB, heterotic SO(32), and heterotic E8 × E8. These versions differ in their assumptions about the nature of strings and the geometry of spacetime.\\n\\nIt's important to note that string theory is still a work in progress and has yet to make definitive experimental predictions. However, it has provided deep insights into the nature of quantum gravity and has inspired many theoretical advancements in physics.\\n\\nIf you have any specific questions or would like to delve deeper into a particular aspect of string theory, feel free to ask!\")"
            ]
          },
          "metadata": {},
          "execution_count": 5
        }
      ]
    },
    {
      "cell_type": "markdown",
      "source": [
        "# **Lets print it more clear way**"
      ],
      "metadata": {
        "id": "hz0zcBnvBAuL"
      }
    },
    {
      "cell_type": "code",
      "source": [
        "print(response1.content)"
      ],
      "metadata": {
        "colab": {
          "base_uri": "https://localhost:8080/"
        },
        "id": "UUYFICWxBJMf",
        "outputId": "aa0feba3-26f7-47e7-dd3c-08d618a50313"
      },
      "execution_count": null,
      "outputs": [
        {
          "output_type": "stream",
          "name": "stdout",
          "text": [
            "String theory is a theoretical framework in physics that aims to explain the fundamental nature of particles and their interactions. It suggests that particles, rather than being point-like objects, are actually tiny, vibrating strings. These strings can vibrate in different ways, giving rise to different particles with varying properties.\n",
            "\n",
            "Here are some key points about string theory:\n",
            "\n",
            "1. Dimensions: String theory requires more than the usual four dimensions (three spatial dimensions and one time dimension) of our everyday experience. It suggests that there are additional hidden dimensions, possibly curled up and too small to be observed directly.\n",
            "\n",
            "2. Quantum Mechanics: String theory incorporates quantum mechanics, which deals with the behavior of matter and energy at the smallest scales. It provides a consistent framework to describe both particles and their interactions.\n",
            "\n",
            "3. Unifying Forces: One of the main goals of string theory is to unify the four fundamental forces of nature: gravity, electromagnetism, and the strong and weak nuclear forces. In this framework, all these forces emerge as different manifestations of string vibrations.\n",
            "\n",
            "4. Supersymmetry: String theory suggests the existence of supersymmetry, a hypothetical symmetry between particles with different spins. Supersymmetry could help resolve some issues in particle physics, such as the hierarchy problem and the nature of dark matter.\n",
            "\n",
            "5. Multiple Versions: There are several versions of string theory, including Type I, Type IIA, Type IIB, heterotic SO(32), and heterotic E8 × E8. These versions differ in their assumptions about the nature of strings and the geometry of spacetime.\n",
            "\n",
            "It's important to note that string theory is still a work in progress and has yet to make definitive experimental predictions. However, it has provided deep insights into the nature of quantum gravity and has inspired many theoretical advancements in physics.\n",
            "\n",
            "If you have any specific questions or would like to delve deeper into a particular aspect of string theory, feel free to ask!\n"
          ]
        }
      ]
    },
    {
      "cell_type": "markdown",
      "source": [
        "Beacuse` response1` is just `AIMessage` object, we can append it to `message`, add another `HumanMessage`, and generate the text response in the converstion."
      ],
      "metadata": {
        "id": "9gexc9nHBhKq"
      }
    },
    {
      "cell_type": "code",
      "source": [
        "# lets add the latest AI response to messages\n",
        "messages.append(response1)\n",
        "\n",
        "print(messages)"
      ],
      "metadata": {
        "colab": {
          "base_uri": "https://localhost:8080/"
        },
        "id": "bNW4cHilCd0d",
        "outputId": "2734c444-9418-49bf-9837-7d67769a0dd0"
      },
      "execution_count": null,
      "outputs": [
        {
          "output_type": "stream",
          "name": "stdout",
          "text": [
            "[SystemMessage(content='You are a helpful assistant.'), HumanMessage(content='Hi AI, how are you today?'), AIMessage(content=\"I'm great thank you. How can I help you?\"), HumanMessage(content=\"I'd like to understand string theory.\"), AIMessage(content=\"String theory is a theoretical framework in physics that aims to explain the fundamental nature of particles and their interactions. It suggests that particles, rather than being point-like objects, are actually tiny, vibrating strings. These strings can vibrate in different ways, giving rise to different particles with varying properties.\\n\\nHere are some key points about string theory:\\n\\n1. Dimensions: String theory requires more than the usual four dimensions (three spatial dimensions and one time dimension) of our everyday experience. It suggests that there are additional hidden dimensions, possibly curled up and too small to be observed directly.\\n\\n2. Quantum Mechanics: String theory incorporates quantum mechanics, which deals with the behavior of matter and energy at the smallest scales. It provides a consistent framework to describe both particles and their interactions.\\n\\n3. Unifying Forces: One of the main goals of string theory is to unify the four fundamental forces of nature: gravity, electromagnetism, and the strong and weak nuclear forces. In this framework, all these forces emerge as different manifestations of string vibrations.\\n\\n4. Supersymmetry: String theory suggests the existence of supersymmetry, a hypothetical symmetry between particles with different spins. Supersymmetry could help resolve some issues in particle physics, such as the hierarchy problem and the nature of dark matter.\\n\\n5. Multiple Versions: There are several versions of string theory, including Type I, Type IIA, Type IIB, heterotic SO(32), and heterotic E8 × E8. These versions differ in their assumptions about the nature of strings and the geometry of spacetime.\\n\\nIt's important to note that string theory is still a work in progress and has yet to make definitive experimental predictions. However, it has provided deep insights into the nature of quantum gravity and has inspired many theoretical advancements in physics.\\n\\nIf you have any specific questions or would like to delve deeper into a particular aspect of string theory, feel free to ask!\")]\n"
          ]
        }
      ]
    },
    {
      "cell_type": "code",
      "source": [
        "# Now lets create new prompt which will have the reference of the response AI genrated few moments before\n",
        "prompt = HumanMessage(\n",
        "    content = \"Why do physicists believe it can produce a 'unified theory'?\"\n",
        ")\n",
        "\n",
        "# Lets add the above prompt to the messages\n",
        "messages.append(prompt)\n",
        "\n",
        "# Now send this message to ChatGPT\n",
        "response2 = chat(messages)\n",
        "\n",
        "print(response2)"
      ],
      "metadata": {
        "colab": {
          "base_uri": "https://localhost:8080/"
        },
        "id": "W7dOqBatDXRd",
        "outputId": "1a3e2ff5-23b3-4d67-afb7-6778ee2748dd"
      },
      "execution_count": null,
      "outputs": [
        {
          "output_type": "stream",
          "name": "stdout",
          "text": [
            "content='Physicists believe that string theory has the potential to produce a unified theory because it naturally incorporates gravity into the framework of quantum mechanics. In the standard model of particle physics, which describes the three non-gravitational forces, gravity is not included. This discrepancy is referred to as the \"quantum gravity problem.\"\\n\\nString theory, on the other hand, combines quantum mechanics and gravity in a consistent way. By positing that particles are actually tiny vibrating strings, it provides a framework that can describe both quantum particles and gravity. This inclusion of gravity allows for the potential unification of all four fundamental forces.\\n\\nAdditionally, string theory suggests that the different particles and forces arise from the different vibrational modes of these strings. In this way, the various particles and forces can be understood as different manifestations of a single underlying phenomenon. This hints at the possibility of a unified theory that can explain the fundamental nature of the universe.\\n\\nFurthermore, string theory predicts the existence of supersymmetry, a hypothetical symmetry between particles with different spins. Supersymmetry could help address some unresolved issues in particle physics, such as the hierarchy problem and the nature of dark matter. The concept of supersymmetry is an important aspect of many unified theories, including string theory.\\n\\nHowever, it is important to note that while string theory shows promise, it has not yet been experimentally confirmed. The energies required to test string theory directly are currently beyond the reach of our current particle accelerators. As such, the search for experimental evidence to support or refute string theory is an active area of research.\\n\\nOverall, physicists believe in the potential of string theory to produce a unified theory because of its incorporation of gravity, its ability to explain the different particles and forces, and its connection to supersymmetry. However, further research and experimental evidence will be necessary to validate or refine the theory.'\n"
          ]
        }
      ]
    },
    {
      "cell_type": "code",
      "source": [
        "print(response2.content)"
      ],
      "metadata": {
        "colab": {
          "base_uri": "https://localhost:8080/"
        },
        "id": "0vjGgscHESIX",
        "outputId": "67065786-244b-4d1a-f03d-373808498b54"
      },
      "execution_count": null,
      "outputs": [
        {
          "output_type": "stream",
          "name": "stdout",
          "text": [
            "Physicists believe that string theory has the potential to produce a unified theory because it naturally incorporates gravity into the framework of quantum mechanics. In the standard model of particle physics, which describes the three non-gravitational forces, gravity is not included. This discrepancy is referred to as the \"quantum gravity problem.\"\n",
            "\n",
            "String theory, on the other hand, combines quantum mechanics and gravity in a consistent way. By positing that particles are actually tiny vibrating strings, it provides a framework that can describe both quantum particles and gravity. This inclusion of gravity allows for the potential unification of all four fundamental forces.\n",
            "\n",
            "Additionally, string theory suggests that the different particles and forces arise from the different vibrational modes of these strings. In this way, the various particles and forces can be understood as different manifestations of a single underlying phenomenon. This hints at the possibility of a unified theory that can explain the fundamental nature of the universe.\n",
            "\n",
            "Furthermore, string theory predicts the existence of supersymmetry, a hypothetical symmetry between particles with different spins. Supersymmetry could help address some unresolved issues in particle physics, such as the hierarchy problem and the nature of dark matter. The concept of supersymmetry is an important aspect of many unified theories, including string theory.\n",
            "\n",
            "However, it is important to note that while string theory shows promise, it has not yet been experimentally confirmed. The energies required to test string theory directly are currently beyond the reach of our current particle accelerators. As such, the search for experimental evidence to support or refute string theory is an active area of research.\n",
            "\n",
            "Overall, physicists believe in the potential of string theory to produce a unified theory because of its incorporation of gravity, its ability to explain the different particles and forces, and its connection to supersymmetry. However, further research and experimental evidence will be necessary to validate or refine the theory.\n"
          ]
        }
      ]
    },
    {
      "cell_type": "markdown",
      "source": [
        "# **Dealing with Hallucinations**\n",
        "\n",
        "As we know that the knowledge of LLMs can be limited.The reason for this is that LLMs learn all they know during training.`So basically while training the LLM models they had feed with data and also train on it this data is consider as interal parameters. This knowledge is called parameteric knowledge of the model.`\n",
        "\n",
        "\n",
        "\n",
        "*   Lets see how LLM acts on the recent information\n",
        "\n"
      ],
      "metadata": {
        "id": "NzkUd6M2Z44h"
      }
    },
    {
      "cell_type": "code",
      "source": [
        "messages.append(response2) # add latest AI response to message\n",
        "\n",
        "# Now create new user prompt\n",
        "prompt = HumanMessage(\n",
        "    content = \"What is so special about Llama 2?\"\n",
        ")\n",
        "\n",
        "# Lets add this prompt to the messages\n",
        "messages.append(prompt)\n",
        "\n",
        "# send it to openAI for response\n",
        "response3 = chat(messages)\n",
        "\n",
        "print(response3.content)"
      ],
      "metadata": {
        "colab": {
          "base_uri": "https://localhost:8080/"
        },
        "id": "bPGDIBFCbl6E",
        "outputId": "7e32a9d9-4c1b-47a6-9e7a-0ffd1930afa6"
      },
      "execution_count": null,
      "outputs": [
        {
          "output_type": "stream",
          "name": "stdout",
          "text": [
            "I'm sorry, but I couldn't find any information about \"Llama 2\" specifically. It's possible that you may be referring to something specific that I am not aware of. Could you please provide more context or clarify your question?\n"
          ]
        }
      ]
    },
    {
      "cell_type": "markdown",
      "source": [
        "So here we can clearly say that it can not answer the question out of the knowledge base\n",
        "\n",
        "*   Lets try one more time with `Can you tell me about the LLMChain in LangChain?`\n",
        "\n"
      ],
      "metadata": {
        "id": "2pIO3np9cfWj"
      }
    },
    {
      "cell_type": "code",
      "source": [
        "# Add latest AI response to message\n",
        "messages.append(response3)\n",
        "\n",
        "# Lets create the new prompt\n",
        "prompt = HumanMessage(\n",
        "    content = \"Can you tell me about the LLMChain in LangChain?\"\n",
        ")\n",
        "\n",
        "# Now add prompt to messages\n",
        "messages.append(prompt)\n",
        "\n",
        "# send it openAI for response\n",
        "response4 = chat(messages)\n",
        "\n",
        "print(response4.content)"
      ],
      "metadata": {
        "colab": {
          "base_uri": "https://localhost:8080/"
        },
        "id": "jVbRZ64ddFQa",
        "outputId": "8968816d-2895-4dc8-e288-fa4e5edec17a"
      },
      "execution_count": null,
      "outputs": [
        {
          "output_type": "stream",
          "name": "stdout",
          "text": [
            "I apologize, but I'm not familiar with the specific terms \"LLMChain\" and \"LangChain.\" It's possible that these terms are related to a specific project, technology, or concept that I am not aware of. Without further information, I'm unable to provide specific details about the LLMChain in LangChain.\n",
            "\n",
            "If you can provide more context or clarify your question, I'll do my best to assist you.\n"
          ]
        }
      ]
    },
    {
      "cell_type": "markdown",
      "source": [
        "# **Who to solve this issue now then..?**\n",
        "\n",
        "\n",
        "\n",
        "*   Before that we need to understand about the `Source Knowledge`. And it refers to any information fed into the LLM via prompt.\n",
        "*  We can try that with the LLMChain question. We can take a description of this object from the LangChain documentation\n",
        "\n"
      ],
      "metadata": {
        "id": "eB9aXis_eA0b"
      }
    },
    {
      "cell_type": "code",
      "source": [
        "llmchain_information = [\n",
        "    \"\"\"LangChain is a powerful tool that can be used to work with Large Language Models (LLMs).\n",
        "    LLMs are very general in nature, which means that while they can perform many tasks effectively,\n",
        "    they may not be able to provide specific answers to questions or tasks that require deep domain knowledge or expertise.\n",
        "    For example, imagine you want to use an LLM to answer questions about a specific field, like medicine or law.\n",
        "    While the LLM may be able to answer general questions about the field, it may not be able to provide more detailed or nuanced answers that require specialized knowledge or expertise.\n",
        "    LangChain is an open-source Python framework designed to empower developers to construct robust generative AI applications.\n",
        "    It facilitates the integration of advanced AI models such as OpenAI's GPT, Google's BARD, and Meta's LLaMA.\n",
        "    This is a legacy class, using LCEL as shown above is preferred.\n",
        "    An LLMChain is a simple chain that adds some functionality around language models.\n",
        "    It is used widely throughout LangChain, including in other chains and agents.\n",
        "    An LLMChain consists of a PromptTemplate and a language model (either an LLM or chat model).\n",
        "    It formats the prompt template using the input key values provided (and also memory key values, if available), passes the formatted string to LLM and returns the LLM output\n",
        "    The most common type of chaining in any LLM application is combining a prompt template with an LLM and optionally an output parser.\n",
        "    The recommended way to do this is using LangChain Expression Language. We also continue to support the legacy LLMChain, which is a single class for composing these three components.\"\"\"\n",
        "]\n",
        "\n",
        "source_knowledge = \"\\n\".join(llmchain_information)\n",
        "print(source_knowledge)"
      ],
      "metadata": {
        "colab": {
          "base_uri": "https://localhost:8080/"
        },
        "id": "4-Q82h9fftwc",
        "outputId": "1738f8ce-a6d6-4d28-8904-d866f994f83d"
      },
      "execution_count": null,
      "outputs": [
        {
          "output_type": "stream",
          "name": "stdout",
          "text": [
            "LangChain is a powerful tool that can be used to work with Large Language Models (LLMs). \n",
            "    LLMs are very general in nature, which means that while they can perform many tasks effectively, \n",
            "    they may not be able to provide specific answers to questions or tasks that require deep domain knowledge or expertise. \n",
            "    For example, imagine you want to use an LLM to answer questions about a specific field, like medicine or law. \n",
            "    While the LLM may be able to answer general questions about the field, it may not be able to provide more detailed or nuanced answers that require specialized knowledge or expertise.\n",
            "    LangChain is an open-source Python framework designed to empower developers to construct robust generative AI applications. \n",
            "    It facilitates the integration of advanced AI models such as OpenAI's GPT, Google's BARD, and Meta's LLaMA.\n",
            "    This is a legacy class, using LCEL as shown above is preferred.\n",
            "    An LLMChain is a simple chain that adds some functionality around language models. \n",
            "    It is used widely throughout LangChain, including in other chains and agents.\n",
            "    An LLMChain consists of a PromptTemplate and a language model (either an LLM or chat model). \n",
            "    It formats the prompt template using the input key values provided (and also memory key values, if available), passes the formatted string to LLM and returns the LLM output\n",
            "    The most common type of chaining in any LLM application is combining a prompt template with an LLM and optionally an output parser.\n",
            "    The recommended way to do this is using LangChain Expression Language. We also continue to support the legacy LLMChain, which is a single class for composing these three components.\n"
          ]
        }
      ]
    },
    {
      "cell_type": "markdown",
      "source": [
        "Now we can feed this additional knowledge into our prompts with some instructions telling the LLM how we'd like to use this informatin alongside our original query.\n",
        "\n",
        "\n",
        "\n",
        "*   Below we have used `Query Augementation`\n",
        "\n",
        "\n"
      ],
      "metadata": {
        "id": "yLablmkvlVds"
      }
    },
    {
      "cell_type": "code",
      "source": [
        "query = \"Can you tell me about the LLMChain in LangChain?\"\n",
        "\n",
        "augmented_prompt = f\"\"\"Using the contexts below,answer the query.\n",
        "\n",
        "Contexts:\n",
        "{source_knowledge}\n",
        "\n",
        "Query : {query}\"\"\""
      ],
      "metadata": {
        "id": "8m1ePoJTltpT"
      },
      "execution_count": null,
      "outputs": []
    },
    {
      "cell_type": "code",
      "source": [
        "# Create the new prompt\n",
        "prompt = HumanMessage(\n",
        "    content=augmented_prompt\n",
        ")\n",
        "\n",
        "# Lets add this to messages\n",
        "messages.append(prompt)\n",
        "\n",
        "# send this to openAI for response\n",
        "response5 = chat(messages)\n",
        "\n",
        "print(response5.content)"
      ],
      "metadata": {
        "colab": {
          "base_uri": "https://localhost:8080/"
        },
        "id": "OfDbczMWmODR",
        "outputId": "edd2c7a7-bfea-415e-bb20-b5448388acf9"
      },
      "execution_count": null,
      "outputs": [
        {
          "output_type": "stream",
          "name": "stdout",
          "text": [
            "The LLMChain is a component in the LangChain framework that adds functionality around language models. It is commonly used throughout LangChain, including in other chains and agents. \n",
            "\n",
            "An LLMChain consists of two main components: a PromptTemplate and a language model (either an LLM or chat model). The PromptTemplate is a string that can include placeholders for input key values. These placeholders are formatted using the provided key values and passed to the language model. The LLM then generates an output based on the formatted prompt and returns it.\n",
            "\n",
            "The LLMChain allows for the chaining of prompt templates, language models, and output parsers, enabling developers to create more complex generative AI applications. It is designed to be flexible and customizable, allowing for the integration of advanced AI models like OpenAI's GPT, Google's BARD, and Meta's LLaMA.\n",
            "\n",
            "While the LangChain Expression Language (LCEL) is the recommended way to construct chains in LangChain, the LLMChain is still supported as a legacy class. However, using LCEL is preferred for composing prompt templates, language models, and output parsers.\n",
            "\n",
            "In summary, the LLMChain in LangChain is a component that facilitates the chaining of prompt templates and language models, allowing for the construction of robust generative AI applications.\n"
          ]
        }
      ]
    },
    {
      "cell_type": "markdown",
      "source": [
        "The quality of this answer is quite good. This is made possible thanks to the idea of augmented our query with external knowledge (source knowledge). but as go through response we can say LLM just copy pasted the sentences.There's just one problem — how do we get this information in the first place?"
      ],
      "metadata": {
        "id": "AICKgSRQoV9j"
      }
    },
    {
      "cell_type": "markdown",
      "source": [
        "# **Task 1: Importing the Data**\n",
        "\n",
        "So here by using the Hugging Face Datasets libary to load our data."
      ],
      "metadata": {
        "id": "2Fvv3TcnoYrr"
      }
    },
    {
      "cell_type": "code",
      "source": [
        "from datasets import load_dataset\n",
        "\n",
        "dataset = load_dataset(\n",
        "    \"jamescalam/llama-2-arxiv-papers-chunked\",\n",
        "    split=\"train\"\n",
        ")\n",
        "\n",
        "dataset"
      ],
      "metadata": {
        "colab": {
          "base_uri": "https://localhost:8080/",
          "height": 264,
          "referenced_widgets": [
            "b8d4f946a31843968c6c3cf3971177c0",
            "3caf2619ae8d43f0949c18509ffd190f",
            "8b9e4526c4fb4d0cb2203c68e486d7cc",
            "faf839507d81403cb3a097710c1c7f5f",
            "325e796f78fb40aab140ad035ac9fdef",
            "d8e49eda180d49368b1926640b901c24",
            "ce6a4d927d604624a7024e6ae1495079",
            "42cad2054c284fef80941be929d9f139",
            "09bc9d068a0942e79f15a4402527f519",
            "3e46c7213ca54257aced007bfde6c148",
            "cd6bd372ab7d4dbdabd5ed0076ae780d",
            "f40c4051c71843c3bedd053e038a0861",
            "310a289978e04e5b94beda46f63b8771",
            "88a19c714632491296bfee85ca780c16",
            "ac4655d7b3ef421ca648427cabf4deb0",
            "51e19c253fc34cf29bf95dbd57384bd4",
            "8cd3a8b731cc48ed8e84e4a2dd8bf264",
            "d227814d058c4203965482e4485b6192",
            "5206c7eb68df4afdaa139c1bbab5886d",
            "4cfaaeeedae54a98b4de372d235445a1",
            "6b0e17c4358f4911b2c1d9a57c6acfab",
            "2c08fd5dd2c24328844193b7d428c44d",
            "4666dda476d24a3fb6dfa4bf5a891f19",
            "ff9031d06e9744f78ae5cc9f4e5ae9b0",
            "222d8d59bc47422782d1c0e9163155ba",
            "6d932c8ffd4e4bf0b10bf5bc8b48c066",
            "e040d8f23cc1451fa08becee726dfe87",
            "b16c5cdb4d9c421396fdd2ea96f36921",
            "7dc767005c8c4827b4e91df7526c4bfc",
            "bb23e578d25d40928e58d18a5352169a",
            "6982cdd3b6e943d3a06b3a980723ed36",
            "66ddfe429df945d7a44b69141f875731",
            "151a54a89dd04cecb7bfb03f40acfe2d",
            "08da8738b8864a72af21d6e32f115f4e",
            "8dba3f132c894af881d0ba16743a5cc6",
            "cb9cf86ca87543f4a9c96898e21c945c",
            "fe0ad2c9c65a417ebb47b5e376acf7ed",
            "79729ecd87fe4ac59595130d42561481",
            "72c24164b9004425861b91b972b5314c",
            "4bb0b478739143e88ce35c3fc58480d7",
            "c8878483219643ff914a8bf4fe86923b",
            "c4a7349808054138975e07b9792db22f",
            "c46d50739c4f4c10876b69f45dfe0edf",
            "33ffc168d3bb4741a1648d1c387dd989",
            "e9777642852340cfbde57379a84a6e9b",
            "2d09a503e6ff4b5baa9c6821cba51d6d",
            "41cbe871c93d40d7a9b7071c22958c4d",
            "2850a5498ffe463ca51de6a4e8befa3d",
            "e992cd744e4646a28ad75db36210ee01",
            "02a42493b06f4d7eab76327f3e2b0320",
            "940c83c588314b2794ede3887858a3df",
            "1e67f9be0ab44efa994d944c6d543c6b",
            "a26e0d9fe03544d39f2fbf0d9eb37413",
            "602cba9bb880416284b719e6df1410d3",
            "21445bf69e2f4d2da2f5c2d863748b61"
          ]
        },
        "id": "fKTcT9XIsvNs",
        "outputId": "a929c742-78a8-4d71-8501-c3c17f1dbbec"
      },
      "execution_count": null,
      "outputs": [
        {
          "output_type": "display_data",
          "data": {
            "text/plain": [
              "Downloading readme:   0%|          | 0.00/409 [00:00<?, ?B/s]"
            ],
            "application/vnd.jupyter.widget-view+json": {
              "version_major": 2,
              "version_minor": 0,
              "model_id": "b8d4f946a31843968c6c3cf3971177c0"
            }
          },
          "metadata": {}
        },
        {
          "output_type": "display_data",
          "data": {
            "text/plain": [
              "Downloading data files:   0%|          | 0/1 [00:00<?, ?it/s]"
            ],
            "application/vnd.jupyter.widget-view+json": {
              "version_major": 2,
              "version_minor": 0,
              "model_id": "f40c4051c71843c3bedd053e038a0861"
            }
          },
          "metadata": {}
        },
        {
          "output_type": "display_data",
          "data": {
            "text/plain": [
              "Downloading data:   0%|          | 0.00/14.4M [00:00<?, ?B/s]"
            ],
            "application/vnd.jupyter.widget-view+json": {
              "version_major": 2,
              "version_minor": 0,
              "model_id": "4666dda476d24a3fb6dfa4bf5a891f19"
            }
          },
          "metadata": {}
        },
        {
          "output_type": "display_data",
          "data": {
            "text/plain": [
              "Extracting data files:   0%|          | 0/1 [00:00<?, ?it/s]"
            ],
            "application/vnd.jupyter.widget-view+json": {
              "version_major": 2,
              "version_minor": 0,
              "model_id": "08da8738b8864a72af21d6e32f115f4e"
            }
          },
          "metadata": {}
        },
        {
          "output_type": "display_data",
          "data": {
            "text/plain": [
              "Generating train split: 0 examples [00:00, ? examples/s]"
            ],
            "application/vnd.jupyter.widget-view+json": {
              "version_major": 2,
              "version_minor": 0,
              "model_id": "e9777642852340cfbde57379a84a6e9b"
            }
          },
          "metadata": {}
        },
        {
          "output_type": "execute_result",
          "data": {
            "text/plain": [
              "Dataset({\n",
              "    features: ['doi', 'chunk-id', 'chunk', 'id', 'title', 'summary', 'source', 'authors', 'categories', 'comment', 'journal_ref', 'primary_category', 'published', 'updated', 'references'],\n",
              "    num_rows: 4838\n",
              "})"
            ]
          },
          "metadata": {},
          "execution_count": 15
        }
      ]
    },
    {
      "cell_type": "code",
      "source": [
        "dataset[0]['chunk']"
      ],
      "metadata": {
        "colab": {
          "base_uri": "https://localhost:8080/",
          "height": 123
        },
        "id": "mI-nHHpBs9tM",
        "outputId": "aa6cfa2a-33fc-4f31-a9d3-30df41411531"
      },
      "execution_count": null,
      "outputs": [
        {
          "output_type": "execute_result",
          "data": {
            "text/plain": [
              "'High-Performance Neural Networks\\nfor Visual Object Classi\\x0ccation\\nDan C. Cire\\x18 san, Ueli Meier, Jonathan Masci,\\nLuca M. Gambardella and J\\x7f urgen Schmidhuber\\nTechnical Report No. IDSIA-01-11\\nJanuary 2011\\nIDSIA / USI-SUPSI\\nDalle Molle Institute for Arti\\x0ccial Intelligence\\nGalleria 2, 6928 Manno, Switzerland\\nIDSIA is a joint institute of both University of Lugano (USI) and University of Applied Sciences of Southern Switzerland (SUPSI),\\nand was founded in 1988 by the Dalle Molle Foundation which promoted quality of life.\\nThis work was partially supported by the Swiss Commission for Technology and Innovation (CTI), Project n. 9688.1 IFF:\\nIntelligent Fill in Form.arXiv:1102.0183v1  [cs.AI]  1 Feb 2011\\nTechnical Report No. IDSIA-01-11 1\\nHigh-Performance Neural Networks\\nfor Visual Object Classi\\x0ccation\\nDan C. Cire\\x18 san, Ueli Meier, Jonathan Masci,\\nLuca M. Gambardella and J\\x7f urgen Schmidhuber\\nJanuary 2011\\nAbstract\\nWe present a fast, fully parameterizable GPU implementation of Convolutional Neural\\nNetwork variants. Our feature extractors are neither carefully designed nor pre-wired, but'"
            ],
            "application/vnd.google.colaboratory.intrinsic+json": {
              "type": "string"
            }
          },
          "metadata": {},
          "execution_count": 16
        }
      ]
    },
    {
      "cell_type": "markdown",
      "source": [
        "# **Task 2: Building the Knowledge Base**\n",
        "\n",
        "We now have a dataset that can serve as our chatbot knowledge base. Our next task is to transform that dataset into the knowledge base that our chatbot can use. To do this we must use an embedding model and vector database."
      ],
      "metadata": {
        "id": "c5dtM0kAu1UT"
      }
    },
    {
      "cell_type": "code",
      "source": [
        "import pinecone\n",
        "\n",
        "from google.colab import userdata\n",
        "\n",
        "# get API key from app.pinecone.io and enviroment from console\n",
        "pinecone.init(\n",
        "    api_key=userdata.get('PINECONE_API_KEY') ,\n",
        "    environment=userdata.get('PINECONE_ENVIRONMENT')\n",
        ")"
      ],
      "metadata": {
        "id": "EdkYuq_ovHg1"
      },
      "execution_count": null,
      "outputs": []
    },
    {
      "cell_type": "markdown",
      "source": [
        "### Task 2.1: Selecting the embedding model\n",
        "\n",
        "\n",
        "*   So here we are using the openAI's `text-embedding-ada-002` model for creating the embeddings with `dimension` to `1536`\n",
        "\n"
      ],
      "metadata": {
        "id": "xQIrowcNvlUK"
      }
    },
    {
      "cell_type": "markdown",
      "source": [
        "Before that we need to create the index  for `pinecone`\n",
        "\n"
      ],
      "metadata": {
        "id": "UPSsNU38wjOc"
      }
    },
    {
      "cell_type": "code",
      "source": [
        "import time\n",
        "\n",
        "index_name = \"llama-2-rag\"\n",
        "\n",
        "# check if index already exists (it shouldn't if this is first time)\n",
        "if index_name not in pinecone.list_indexes():\n",
        "    # if does not exist, create index\n",
        "    pinecone.create_index(\n",
        "        index_name,\n",
        "        dimension=1536,  # dimensionality of text-embedding-ada-002\n",
        "        metric='cosine',\n",
        "    )\n",
        "# connect to index\n",
        "index = pinecone.Index(index_name)\n",
        "# view index stats\n",
        "index.describe_index_stats()"
      ],
      "metadata": {
        "colab": {
          "base_uri": "https://localhost:8080/"
        },
        "id": "rqOS_R5dwsl3",
        "outputId": "b52ca0cc-c294-4a99-8952-d78b98b3edb0"
      },
      "execution_count": null,
      "outputs": [
        {
          "output_type": "execute_result",
          "data": {
            "text/plain": [
              "{'dimension': 1536,\n",
              " 'index_fullness': 0.0,\n",
              " 'namespaces': {},\n",
              " 'total_vector_count': 0}"
            ]
          },
          "metadata": {},
          "execution_count": 18
        }
      ]
    },
    {
      "cell_type": "markdown",
      "source": [
        "As we can see `total_vector_count` is 0. So here by using the openAI's `text-embedding-ada-002` we will create the vector embeddings"
      ],
      "metadata": {
        "id": "CSoCWkvSzYil"
      }
    },
    {
      "cell_type": "code",
      "source": [
        "from langchain.embeddings.openai import OpenAIEmbeddings\n",
        "\n",
        "# now import the openAI embedding\n",
        "embed_model = OpenAIEmbeddings(\n",
        "     openai_api_key = key,\n",
        "    model=\"text-embedding-ada-002\")"
      ],
      "metadata": {
        "id": "C-ieQdV-0fpe"
      },
      "execution_count": null,
      "outputs": []
    },
    {
      "cell_type": "markdown",
      "source": [
        "Lets see how we can create embeddings like"
      ],
      "metadata": {
        "id": "UlYA9ojg8m41"
      }
    },
    {
      "cell_type": "code",
      "source": [
        "texts = [\n",
        "    'this is the first chunk of text',\n",
        "    'then another second chunk of text is here'\n",
        "]\n",
        "\n",
        "response6 = embed_model.embed_documents(texts)\n",
        "len(response6), len(response6[0])"
      ],
      "metadata": {
        "colab": {
          "base_uri": "https://localhost:8080/"
        },
        "id": "Fm1uTfFI8wzY",
        "outputId": "0df5b265-b8d0-496b-d213-9a6119496155"
      },
      "execution_count": null,
      "outputs": [
        {
          "output_type": "execute_result",
          "data": {
            "text/plain": [
              "(2, 1536)"
            ]
          },
          "metadata": {},
          "execution_count": 20
        }
      ]
    },
    {
      "cell_type": "code",
      "source": [
        "print(response6[0])"
      ],
      "metadata": {
        "colab": {
          "base_uri": "https://localhost:8080/"
        },
        "id": "9P2HxxqP_65u",
        "outputId": "b15a352f-fee2-4abc-813c-8d0b5f367964"
      },
      "execution_count": null,
      "outputs": [
        {
          "output_type": "stream",
          "name": "stdout",
          "text": [
            "[0.003042488170397272, -0.009244673312589874, -0.009786147017888434, -0.032699731946420174, 0.00039000966847160817, 0.026360526910249822, -0.013933043994962481, -0.006748611620636085, -0.020932581841329415, -0.036476840798897806, -0.0006409365053828559, 0.039250241023161984, -0.015200884070874035, 0.009700304227537362, 0.013285916406733158, 0.002259992388673937, 0.010453084767374934, 0.008689993454001541, 0.010770044553522193, -0.009495600469643237, -0.012420878907319936, 0.011998265238241912, -0.008452272450237951, -0.008009849551225268, -0.0026826060577519605, -0.028922621231297505, 0.008313603184082755, -0.02106464896216224, -0.006094880955761874, -0.007263672088032583, -0.0183836936735715, -0.010321017646542108, 0.0023458358775168965, -0.021883462131093708, -0.0020272248565471576, -0.002397011816990428, -0.01494995784514319, -0.017696945762827824, 0.01930816165675625, -0.026241665942706768, 0.01994208122905077, -0.0002750702963204586, -0.0032471914626301395, -0.0067288014593789094, -0.009984247699137673, -0.011093608347636855, 0.007118398348248726, -0.003981813076033016, -0.023283370259160604, 0.0044308399830131, 0.03182808857639451, 0.013107625886741093, -0.02255700388854761, -0.006652863283995167, -0.0074815819992164806, 0.026756726410103265, -0.010089900650745921, 0.010116313888647982, 0.012037885560756263, 0.005213335299075177, -0.002443235216149665, 0.012764252862691772, -0.017089438497112853, -0.006834454876648415, -0.004790721629997154, -0.0015757215629946105, -0.008683389446034138, -0.0007985911884988466, 0.0003175792902439756, 0.013985870470766605, 0.02554171187867332, 0.017921459681979127, -0.00983237041704767, -0.004744498696499175, 0.021130681591256136, 0.006959918455175096, -0.008828662720156737, 0.0005839826992220772, 0.009409756747969648, 0.0009723415694286352, 0.027918914465729087, -0.014197177305305618, 0.009812560255790496, 0.039989815409709785, 0.0039025728966655716, -0.01584801165910336, 0.015795185183299237, 0.022094769896955236, -0.01370853007581118, -0.013200072685059568, 0.00030684888324243435, 0.01292273322142666, 0.00936353334881041, 0.018925166447547544, -0.009931420292011033, 0.015266917631290448, 0.003344590801262908, 0.01887233997174342, 0.017049820037243535, -0.027998153248112757, -0.004836945029156391, -0.0019100155894878422, -0.020285454253100087, -0.003704472681077591, -0.039831334119652374, 0.002392059276676134, 0.02900186187632621, -0.008828662720156737, 0.017049820037243535, 0.0177893925611463, -0.007105191729297695, 0.022240043171077833, -0.01607252557825466, -0.03214505115650932, -0.0014131143977719834, -0.006867471656856621, 0.012282208709842223, -0.03026970288356028, -0.02130236903460331, -0.03114134252829587, 0.004998726926213723, 0.039461550651668544, 0.02663786544256021, -0.013140643132610558, 0.0023722493482495875, 0.0007333832454936736, -0.02128916288131354, -0.024141803750606424, 0.006646259741689022, -0.005906685820802481, 0.023745604250752977, 0.00943616998587171, 0.03137906446338198, -0.002151037433081988, -0.020866549212235515, 0.01403869694657073, -0.006015641242055688, -0.009568237106704536, -0.031484717414990225, -0.022847550436792808, 0.01965153468080557, 0.039989815409709785, -0.019783601801638396, -0.005979322923525039, -0.000281054567360516, 0.024894584290443993, 0.005629345891508315, 0.0020140182375961266, 0.005576518950042932, -0.022794723960988684, 0.018053526802811953, -0.0012595868121820185, -0.0030391863992442, -0.00032418262882331976, 0.0015748961784139998, 0.043397137068913516, 0.004285566708890502, -0.00137184353892704, 0.010921920904289678, -0.012480309391091461, -0.0061080880403741634, 0.0021857049824514163, 0.010426670598150355, 0.002662796129325414, 0.01461979097438364, 0.04619695332504731, 0.020958996010553992, -0.012011472322854202, 0.01269821930227536, -0.006748611620636085, 0.003354495881891496, 0.029556540803592025, -0.04006905605473848, 0.0062566628528192055, -0.01402548986195844, 0.009640873743765835, 0.021025028639647888, 0.023256957952581057, -0.026056772346069818, -0.016415898602303983, -0.02111747543796636, 0.008029658781159927, 0.013840597196644008, 0.0061080880403741634, -0.016680032843969635, -0.011252088706371743, -0.006091579417439431, -0.009185243760140864, -0.007058968330138458, -0.005834049183741182, 0.03079796950424655, -0.0002917850034658859, 0.010578547880240357, -0.006775024858538146, -0.6994255943844532, -0.012242589318650389, 0.017247919787170257, -0.009429566909226824, 0.006091579417439431, 0.03095644893165892, 0.016944165222990252, -0.0039719079954044275, -0.008419256135691002, 0.03140547676996152, -0.005662362671716522, -0.005900082744157595, -0.0029401362914502098, -0.014302830256913864, 0.0023805034268863244, -0.01407831726908508, -0.005602932653606253, -0.015438605074637625, -0.0028179744840766004, 0.024828551661350097, -0.004011527852257521, 0.003995019694984047, 0.0012422530374973045, -0.005071363563275022, 0.0006603337997267543, 0.01402548986195844, 0.016944165222990252, -0.006781628400844291, -0.002976454609980859, 0.028552834038023608, -0.021870255977803933, 0.015715944538270535, 0.0037705060086633746, 0.003029281318615612, 0.03724282749202515, -0.02286075659008258, -0.014474517700261043, -0.01566311806246641, 0.009495600469643237, 0.01258596234269971, -0.030824381810826095, -0.015795185183299237, -0.0032504932337832117, -0.010096503727390807, -0.009693700219569959, 0.006814645181052498, 0.030322529359364404, -0.004830341952511506, -0.004315281485115007, 0.009581443259994308, -0.002319422639614835, -0.0025389835527905836, 0.01353684356378652, 0.0012926034759749103, -0.005025140164115784, -0.009964437537880497, 0.02863207468305231, -0.011047384948477618, 0.01461979097438364, 0.011734131927898777, -0.01092852491225708, 0.02312489083174823, -0.02989991569028638, -0.010076694497456148, -0.01316705637051262, 0.0021543389714044313, -0.02237211029191066, 0.004057751251416758, 0.025488885402869196, -0.006867471656856621, 0.00954842694544736, 0.026426559539343718, -0.00956163403005965, -0.02989991569028638, 0.0090069532401488, 0.01850255277846952, 0.0017515354635835834, -0.02118350806706026, -0.021698568534456758, 0.029213167779542703, 0.004463856763221308, -0.004661956978809288, -0.039620028216435885, -0.012004869246209315, 0.009640873743765835, -0.024815345508060326, -0.02797174094153321, 0.007032555092236396, 0.0011167895753859377, -0.0034832609987406203, -0.004952503527054486, -0.011694511605384426, -0.006860868580211735, -0.0189779947859967, 0.008287189014858176, 0.003243889924307696, -0.004836945029156391, 0.008485289696107417, 0.009343723187553235, -0.0006578575877772646, -0.003300018171264892, 0.01568953223169099, -0.015438605074637625, 0.007125001890554871, 0.038537082668483796, -0.016785685795577883, -0.002431679366359856, -0.0050614584826464346, 0.030164048069306997, -0.024973824935472698, -0.0044407450636416886, -0.012097315113205272, -0.022596622348416927, -0.02214759637275936, -0.01306800649554926, -0.026466179861858067, 0.017749772238631948, -0.0024184725145781957, 0.005791127788565646, 0.008954126764344676, 0.015781979030009465, 0.012387862592772986, 0.007342912267400027, -0.010010660937039735, 0.0186082075927228, 0.003440339137903826, 0.007243861926775407, -0.024775725185545973, -0.02566057284621637, -0.0016037858028885232, 0.010730424231007842, 0.010056884336198972, 0.046778046421537704, -0.017617706980444157, 0.013946250148252255, 0.0023078667898250253, 0.019572294035776868, -0.005018537087470899, 0.0024333301355210775, -0.016297039497405963, -0.03164319497975756, 0.016680032843969635, -0.010387051206958521, -0.0007531932321278772, -0.005513787393610221, -0.03219787576966841, -0.015504637703731523, -7.237877713943007e-05, -0.007534408940681863, -0.0018918564302225175, 0.003016074699664581, -0.009356930272165524, -0.0246832783872275, 0.00685426503790559, 0.009687097142925073, -0.0091522265142714, 0.013305726567990334, -0.02049676201896162, -0.013946250148252255, -0.00404784617078817, -0.0076532689769024, 0.007448565684669533, -0.00791079874493939, -0.0019199205537011154, -0.013867010434546068, -0.0013652401130362097, -0.019625120511580992, 0.025449265080354843, -0.013999076624056379, -0.024630451911423375, -0.008914506441830325, 0.0037176793000286215, -0.013431189680855757, -0.007118398348248726, -0.020642035293084216, 0.004226136225118976, -0.02834152813480711, -0.0015996586471548402, 0.0030705521774605556, -0.009885196892851795, -0.004041243094143284, -0.002951692141240019, 0.011436981371686175, 0.020100560656463137, 0.015240504393388386, 0.018476140471889974, 0.014289624103624093, 0.020153388994912296, -0.013503826317917056, 0.0050350452447443725, 0.009951230453268208, -0.0036318360440162913, -0.022543795872612803, 0.009535220792157588, -0.0059198929054147705, 0.01097474831141632, -0.019876048599956873, 0.01143037829504129, 0.0021857049824514163, 0.015781979030009465, 0.03940872231321939, 0.00037680299131291996, 0.020562794648055514, -0.012843492576397959, 0.0086371660468749, -0.058796122752359306, -0.006009037699749544, -0.0014791477253577672, 0.008359826583241992, 0.0003289287938886323, 0.008458876458205354, -0.026769932563393037, -0.01621779885237726, 0.006246757772190617, 0.013959457232864543, 0.0298735015210618, -0.01984963443073229, 0.010948335073514257, -0.011496411855457703, 0.002808069636278642, -0.003030932320607463, -0.015385777667510986, -0.004133689892461759, 0.0005505533431388799, -0.026426559539343718, 0.018779893173424943, 0.02148726263124026, 0.0327789688661588, 0.022385316445200434, -0.021394815832921788, -0.0060783727984884, 0.01767053345624828, 0.007785335632073968, 0.007547615559632894, -0.0008150995786029499, 0.017776186407856526, 0.028183046844749707, -0.013695322991198891, 0.021091061268741784, -0.02036469489812879, -0.018779893173424943, 0.019017613245866018, 0.0373484804436334, -0.01924212716501732, 0.015240504393388386, 0.010717218077718069, 0.026268080111931345, 0.00046140825776582, -0.008874886119315974, 0.019347780116625565, 0.0020618924059165856, 0.02942447554540423, -0.0059760209195413375, -0.0007895116088661842, 0.02741706015162236, -0.03737489275021294, -0.0018357280668500067, 0.010136124049905158, 0.017657325440313475, 0.025819052273628743, 0.0021196716548656323, -0.00274368707785408, -0.014382070901942568, 0.003460149299161002, 0.025026651411276822, -0.003813427869500169, -0.0044407450636416886, 0.018172385907709972, -0.024168217919831002, 0.012876509822267424, -0.006633053122737991, -0.006973125074126127, 0.007243861926775407, -0.00738253212425312, 0.02770760669986756, 0.0017498845780070473, 0.016059317562319854, -0.0051274920430628475, 0.0016689937458936963, 0.008729612845193375, -0.01748563985961133, -0.02020621547071642, 0.00816832897863764, 0.018449726302665396, -0.009766336856631258, -0.016455518924818332, -0.03137906446338198, 0.017181885295431326, 0.009865387662917136, -0.0035360877073753734, 0.005876971044577976, 0.005668965748361407, 0.027734020869092137, -0.016719653166483984, 0.004754403311466504, 0.038272948426818144, 0.011806768564960076, -0.010598358041497533, -0.007877782430392442, -0.022477763243518908, 0.0044308399830131, 0.014368863817330277, -0.002827879564705188, -0.0027783546272235077, 0.04146896418280538, -0.013985870470766605, -0.0018225213314836612, 0.006299584713655999, -0.010670994678558832, -0.01475185716389395, -0.011595461730421064, -0.008016452627870155, -0.0088616799660262, 0.01146999861755564, 0.007105191729297695, 0.002304565018671953, -0.0068872818181137975, 0.0298735015210618, 0.03214505115650932, 0.01722150561794568, 0.009389946586712472, -0.046302606276655556, -0.03140547676996152, 0.0058802725829004195, 0.0375069617336908, 0.03077155533502197, -0.004087466493302522, -0.0010367241278531974, 0.00962106358250866, -0.011014367702608153, -0.003595517725485642, -0.02651900633766219, 0.001027644548220535, -0.02128916288131354, -0.0037143777617061786, -0.010763441476877307, 0.012836889499753073, 0.01027479424738287, 0.019162886519988615, -0.01673285931977376, -0.013985870470766605, -0.008128709587445805, -0.0172743320937498, -0.011819975649572365, -0.0010598358274328161, 0.02844718108641536, 0.006781628400844291, 0.020642035293084216, 0.02340223122670366, -0.011595461730421064, 0.013800976874129655, -1.2426398965017013e-05, 0.000869164364108619, -0.02194949662283264, -0.007025952015591509, 0.0021741491326616067, 0.005827446107096295, 0.014844303962212426, -0.010043677251586683, 0.0302432887143357, 0.00045067782166045004, -0.008458876458205354, 0.005041648787050517, 0.005173715442222085, -0.00703915863454254, 0.007389135200898006, 0.015900838134907485, -0.011166244984698155, -0.00244818752363333, -0.009726717465439424, 0.012460499229834287, 0.0006178248058032372, -0.026717106087588913, -0.016455518924818332, 0.023560710654116027, -0.0034997691560140947, 0.0007276053205987689, 0.0008518306476315622, -0.011463394609588238, 0.008729612845193375, 0.005827446107096295, 0.015900838134907485, -0.007811748869976029, -0.020483555865671844, -0.018238420399448903, -0.036080641299044355, -0.0008307824677111277, -0.007646665434596255, -0.016957373238925058, -0.021513674937819808, -0.022081563743665465, 0.0183044530285428, -0.012460499229834287, -0.0074815819992164806, -0.017181885295431326, -0.004321885027421151, -0.027945326772308633, 0.01294254245136132, 0.015161264679682202, 0.017129058819627202, -0.005216637303058879, 0.0024597433734231395, -0.005437849218226478, -0.0033115740210547017, -0.002907119744072632, -0.020840135043010938, 0.009469187231741175, -0.008808853490222078, -0.016640412521455282, 0.010076694497456148, 0.008254172700311228, -0.007296688868240789, 0.018964786770061894, 0.023864463355650997, 0.0041898179065883254, 0.004480364920494782, 0.008049468942417103, -0.004718084992935855, 0.00746837538026545, 0.0034436409090568987, -0.002388757505523062, -0.008571133417781004, 0.012559549104797648, -0.02942447554540423, -0.01745922569038675, -0.0036483444341203946, 0.029556540803592025, 0.002434980904682299, 0.016864926440606585, -0.007646665434596255, 0.0052892739401201785, 0.03143188907654107, -0.014738651010604177, 0.0009269436130576658, -0.0005352830881133501, 0.0020651939442390284, 0.008340016421984817, -0.007831559031233205, -0.009416359824614534, 0.006028847861006719, 0.016864926440606585, 0.012823682415140782, -0.010637977432689367, -0.00258355594995797, 0.015082024034653498, -0.0369786932503595, 0.009013556316793686, 0.020351488744839018, -0.0026380336605845737, 0.02741706015162236, -0.01730074626297438, -0.024920998459668574, -0.01995528738234054, -0.008848472881413912, -0.018964786770061894, 0.020074148349883594, -0.014316037341526155, -0.04308017821408877, -0.02345505770250778, 0.005282670397814034, -0.01234163919361375, 0.008340016421984817, -0.006725499921056466, -0.0027271786877499766, -0.015557465110858162, -0.022345696122686082, 0.008340016421984817, -0.01422359054320768, -0.027126513603377166, -0.028209461013974285, -0.036344771815419945, -0.001758138773059099, 0.011225674537147165, 0.019519467559972744, -0.01258596234269971, -0.009125813276369337, -0.023560710654116027, -0.009634270667120949, 0.007679682214804462, -0.022107976050245007, 0.00927769055845934, -0.02002132187407947, 0.03869556023325113, 0.016138558207348556, 0.03843142971687555, -0.003704472681077591, 0.007257068545726438, 0.02251738356603326, -0.009990850775782559, 0.007329705182787738, -0.010314414569897222, -0.0026083186515294394, -0.010882301513097844, 0.009422963832581937, 0.005817541026467708, 0.022477763243518908, 0.005886876125206564, -0.012269002556552451, 0.010420067521505469, 0.0045761132571357, 0.01180016548831519, 0.012361449354870926, -0.017195093311366132, -0.009693700219569959, -0.012427481983964822, 0.0014395277520893599, -0.004691671755033793, 0.007877782430392442, -0.010314414569897222, -0.0020107164664430544, 0.020958996010553992, 0.008346619498629703, 0.030216876407756155, 0.0038860645065614684, 0.027734020869092137, -0.013602876192880416, 0.009383343510067586, -0.0010548832871185223, 0.021394815832921788, -0.018713860544331048, -0.013034989249679794, -0.009753130703341486, 3.482229078839971e-05, 0.010426670598150355, 0.019083647737604948, 0.028367940441386658, -0.01070401099310578, -0.01033422379983188, 0.013186866531769797, 0.005239749002638498, -0.01740639921458263, 0.0012430784220779153, 0.005764714085002325, -0.013550049717076292, -0.02717934007918129, -0.020470347849737038, -0.014632997127673414, -0.039382310006639845, 0.007217448688873346, 0.013180263455124911, -0.006596734804207341, 0.009330517034263462, -0.013048196334292083, -0.023626743283209923, 0.009013556316793686, 0.007541012017326749, 0.03114134252829587, 0.001976048917073626, 0.0003640090064445371, -0.018845927665163874, 0.017551672488705226, -0.01458017065186929, 0.0015988332625742293, -0.012460499229834287, -0.012638788818503834, 0.03198656986645192, 0.008590942647715663, 0.0025786036424743056, 0.011166244984698155, 0.0014395277520893599, 0.01529333086919251, -0.007554219101939039, -0.049815584612757605, -0.0038200311789756843, 0.005358609038859034, -0.0006017291661970966, -0.014527344176065165, -0.027100099434152584, -0.033043103107824455, 0.009924817215366146, -0.009244673312589874, 0.012037885560756263, -0.008472082611495126, -0.008934316603087501, -0.03370343684934356, 0.019717567309899466, -0.031722435624786265, 0.007019348473285365, -0.00042797884347496536, -0.005203430684107848, -0.014817890724310364, 0.002789910477013317, -0.02725858072420999, -0.00217745067098405, -0.0066990866831544045, 0.032541250656362763, -0.022213629001853256, 0.014012283708668668, 0.006847661495599446, 0.015927252304132063, -0.016310245650695734, -0.011113418508894031, -0.0042393433097312645, 0.023204129614131902, -0.02461724389548857, -0.009053176639308038, -0.008122105579478402, 0.020153388994912296, 0.011199261299245103, 0.003694567600449003, -0.007164621747407963, -0.01693095906970048, -0.011080401263024566, -0.002780005396384729, 0.0013578114189800835, 0.007640062357951369, -0.008795646405609788, -0.006504288005888866, -0.0017845521273764755, -0.00035761204311417433, -0.01082947503729372, 0.005190223599495559, -0.013444396765468046, -0.03346571863954752, -0.015966872626646412, -0.002519173624364037, 0.021936288606897832, 0.012744442701434598, -0.0018670938450663626, -0.006636354661060434, 0.0033776075814711147, 0.04405747081043261, -0.014051904031183018, 0.016719653166483984, -0.003156395666303515, 0.0029632479910298285, -0.0233494028882545, 0.017142266835562008, -9.930801864755977e-05, -0.004117181269527027, 0.009442773993839113, -0.012460499229834287, -0.0172743320937498, 0.0058571608833208, 0.013959457232864543, 0.0008922760636882377, -0.0033908142004221457, -0.005573217411720489, 0.014250003781109742, 0.009356930272165524, 0.01534615827631915, 0.01930816165675625, -0.040702977489678036, 0.0345486641874996, -0.01403869694657073, -0.0031629989757790307, 0.019559087882487097, -0.004879866889993186, 0.008980540002246738, -0.0019067139347500844, 0.020602414970569864, 0.00568547437129614, -0.025000239104697276, -0.02036469489812879, -0.015161264679682202, 0.00855132325652383, -0.02165895007458744, 0.004922788750829981, -0.0054774690750795715, -0.02432669734724337, -0.01855538111691868, 0.006751913158958528, -0.0009129114931107095, 0.0024382826758353716, -0.0022187215298289935, 0.012103919121172676, -0.03325441273633102, -0.01703661202130873, 0.003813427869500169, 0.0008625610546331035, -0.03412605238106661, -0.0029318822128134724, -0.028843380586268803, -0.014831097808922653, 0.00040672434651320687, 0.03652966541205689, 0.027839673820700385, -0.009112607123079564, -0.02157970942955874, -0.01615176436063833, -0.03177526396323542, -0.025779431951114394, -0.011780355327058014, 0.008729612845193375, 0.018766687020135172, 0.006253361314496762, 0.007118398348248726, 0.031854504608264125, -0.0029582954507155344, 0.027311407200014116, -0.0183836936735715, -0.01240106874606276, 0.019136474213409072, 0.0023821541960475463, 0.0062434562338681745, 0.00500863200684231, -0.016904544900475903, -0.02049676201896162, 0.017181885295431326, 0.019110060044184494, 0.0032339848436791084, 0.034759973816006165, 0.006986331693077158, -0.0023293274874127932, -0.006900488437064828, 0.019294953640821445, 0.008306999176115352, 0.0189779947859967, 0.010367241045701345, 0.004605828499021463, -0.007725905613963699, 0.008524910018621767, 0.004262455009310884, -0.012064298798658325, 0.016957373238925058, -0.006880678275807652, 0.010129520973260272, 0.002076749794028838, -0.015914044288197256, -0.007045761711187427, 0.0007238909735707058, -0.013589670039590645, 0.03800881418515249, 0.010875698436452957, -0.012467102306479173, 0.023626743283209923, 0.0025786036424743056, -0.01197185200033985, 0.004727990073564442, 0.016085731731544435, -0.03169602331820672, -0.019994907704854892, -0.005886876125206564, -0.004344996727000771, -0.0029054687420807814, 0.01006348741284386, -0.011463394609588238, -0.01152942817000465, 0.009931420292011033, -0.008141915740735578, -0.004490270001123369, -0.007105191729297695, 0.0009005302587402894, 0.01771015377876263, -0.009297499788393997, -0.02218721669527371, -0.006788231477489177, 0.014712237772702115, 0.006814645181052498, -0.010453084767374934, -0.02879055411046468, -0.030481008786776773, 0.011179451137987927, 0.006226948076594701, -0.022464557090229136, -0.008201346224507104, 0.028552834038023608, -0.0032950658637812278, -0.013074609572194145, 0.0359485723155665, 0.20982767831533597, -0.002479553534680315, -0.001215839683179928, 0.01945343493087885, 0.0009962786535888646, -7.660904046207508e-05, 0.02398332432319405, 0.0010301207019623674, -0.010109710812003096, 0.009502203546288123, -0.010604961118142419, 0.021355195510407435, -0.010070090489488745, -0.010439877682762645, 0.0025901594922641148, -0.01322648592296163, -0.020589208817280092, -0.018991200939286475, -0.016138558207348556, -0.031722435624786265, -0.01240106874606276, -0.011516222016714879, -0.020655241446373988, -0.008254172700311228, 0.02110426928467659, -0.014738651010604177, 0.002720575378274461, -0.012163348673621685, 0.01564991190917664, 0.02760195374825931, -0.011919025524535727, -0.024894584290443993, 0.015042404643461665, 0.0015410540136251826, -0.027945326772308633, 0.01625741917489161, 0.012209572072780924, -0.01576877101407466, 0.03457508021936921, 0.004698275297339937, 0.027100099434152584, -0.009568237106704536, -0.012163348673621685, -0.015834805505813586, -0.004843548571462537, 0.019110060044184494, -0.0012818730107657119, -0.03629194720226085, -0.004592621880070432, 0.008155122825347867, -0.02282113626756823, -0.005626044353185871, 0.024234250548924897, 0.01887233997174342, 0.01839689982686127, -0.011311518258820753, 0.010492704158566768, -0.002991312230923741, -0.009574840183349422, 0.009766336856631258, -0.01286990581430002, 0.039382310006639845, -0.031062101883267166, 0.012018075399499088, -0.005642552510459345, 0.032805384898028415, -0.027126513603377166, -0.007474978922571595, -0.008419256135691002, -0.026558626660176544, 0.005460960452144839, -0.001972747378751183, -0.00540153043403457, -0.013814183027419429, -0.006973125074126127, -0.02517192468539942, 0.021130681591256136, 0.011588858653776178, 0.004942598446425897, 0.020298662269034894, -0.02960936914204118, -0.01924212716501732, 0.012467102306479173, -0.032224291801538026, -0.014699030688089827, -0.046144128711888215, 0.018040320649522178, -0.0013916534673535862, -0.007514598779424687, -0.009119210199724451, 0.0024514892947864026, -0.012797269177238722, 0.004510080162380544, 0.009522013707545298, 0.01615176436063833, 0.012500119552348638, -0.0019166188989633577, 0.02842076691719078, -0.0090069532401488, 0.007395738743204151, -0.02572660547531027, 0.0053156871780222405, 0.02595111939446157, 0.009997453852427446, -0.023481470009087325, -0.025673778999506146, 0.0023722493482495875, 0.012817079338495897, 0.001163012974545175, -0.008643770054842303, 0.0009219910727433719, -0.018132767447840654, 0.013140643132610558, -0.00522984392200991, 0.0016640412055794025, 0.024049356952287947, -0.016283831481471157, -0.032092222818060165, 0.0012785713560279541, -0.009185243760140864, -0.013107625886741093, -0.02330978442838518, -0.001926523863176631, 0.003909175973310457, -0.016231005005667033, -0.032699731946420174, -0.01818559392364478, -0.0027618462371194045, 0.006662768364623754, -0.010657787593946543, 0.007019348473285365, -0.012031282484111377, 0.00842585921233589, 0.007336308725093882, -0.010486101081921882, 0.013840597196644008, 0.009508806622933009, 0.012797269177238722, -0.0009120861085300986, 0.02036469489812879, -0.003569104254752951, -0.0012736188157136603, 0.010730424231007842, -0.0014618139506730533, 0.0007540186749161453, -0.028209461013974285, 0.013206676693026971, -0.008379635813176651, -0.038272948426818144, -0.01034743088444417, -0.02255700388854761, 0.0028608963449133946, 0.001115964190805327, 0.00611469111701905, 0.010076694497456148, -0.025119098209595295, -0.023111682815813425, -0.03547313217068435, 0.011087004339669452, 0.015372571514221212, -0.008432463220303292, 0.012117125274462449, 0.03473355778413655, -0.03552596050913351, -0.01225579547194016, -0.010373844122346232, -0.17232071285635508, 0.010420067521505469, 0.005791127788565646, -0.018278040721963252, 0.03299027849466537, -0.010954938150159143, 0.020866549212235515, 0.009911611062076374, 0.010849284267228379, -1.3980505216334136e-05, -0.004619035117972493, -0.021315575187893086, -0.02237211029191066, -0.00701274493097922, 0.00032830972634934557, -0.0029847089214482254, -0.027284993030789535, -0.02196270277612241, 0.006111389578696606, 0.020826928889721166, 0.0030936638770401744, -0.007785335632073968, 0.025528505725383545, -0.011179451137987927, 0.0065108915481950115, 0.007224051765518232, 0.02558133220118767, 0.03777109597535645, 0.0004432490693966665, -0.002248436538884128, -0.013880216587835842, -0.004262455009310884, 0.007349515344044913, 0.0016508345866283714, 0.02900186187632621, 0.005579820954026634, 0.023996530476483823, -0.012605772503956884, -0.02157970942955874, 0.03225070410811757, 0.03219787576966841, 0.02398332432319405, 0.008419256135691002, -0.014817890724310364, 0.02543605892706507, -0.007831559031233205, -0.008122105579478402, -0.020958996010553992, 0.01947984723745839, 0.0237191900815284, 0.009356930272165524, -0.011403965057139228, 0.011687908528739539, -0.001088725335492025, 0.021328783203827893, 0.02312489083174823, -0.004813833329576773, -0.00014310671235806695, 0.013642496515394767, 0.004493571539445813, -0.0018225213314836612, -0.026162425297678066, 0.008531513095266653, -0.004236041305747563, -0.00997764369117027, -0.023270164105870832, -0.024590831588909026, 0.02039110906735337, -0.004526588319654019, 0.008531513095266653, -0.005484072151724458, -0.017195093311366132, 0.0010705661762267001, -0.00973332054208431, 0.016059317562319854, -0.00943616998587171, -0.05179658583731489, 0.02363995129914473, -0.004632241736923524, -0.0018159180220081457, 0.0042393433097312645, 0.016283831481471157, -0.007408945362155182, 0.02293999723511128, 0.022411730614425012, 0.009317309949651173, -0.008597546655683066, -0.0038233327172981276, 0.0015443556683629404, 0.004747800234821619, 0.01167470144412725, -0.023705983928238628, -0.027126513603377166, -0.00756742572089007, 0.010393654283603407, 0.01576877101407466, 0.021434436155436137, 0.0036186294250652607, -0.01673285931977376, 6.830328070160676e-05, 0.0017564880038978773, 0.0051935256034792605, -0.018423313996085853, 0.017749772238631948, 0.018449726302665396, 0.009964437537880497, 0.036925868637200404, 0.020232627777295963, 0.020826928889721166, -0.014566963567257, -0.028183046844749707, 0.001893507199383739, 0.014897131369339065, 0.02167215622787721, 0.013919836910350192, 0.019915667059826187, 0.012988765850520558, -0.026730312240878688, 0.018515760794404326, 0.010268191170737984, 0.045430966631919964, -0.02614921914438829, -0.018040320649522178, 0.012315225955711688, 0.012935939374716434, -0.0052232403797037655, -0.07813069485305006, -0.023705983928238628, -0.0014329243261985297, 0.020892961518815062, 0.01831765918183257, 0.019215714858437774, 0.008670183292744365, 0.02447197062136597, -0.014368863817330277, 0.002426726826045562, -0.00023338673063329532, -0.020179801301491843, -0.009858783654949733, -0.005233145460332354, 0.011687908528739539, -0.010756837468909904, 0.005526994012561252, 0.003204269834623974, -0.004437443059657987, 0.03811446713676074, -0.019215714858437774, -0.004764308392095093, 0.020483555865671844, -0.01730074626297438, -0.004298773327841533, 0.007877782430392442, -0.017696945762827824, 0.031220583173324573, 0.014699030688089827, 0.009515410630900412, -0.012024678476143974, -0.008564529409813601, 0.014976371083045252, -0.020259041946520544, -0.0033776075814711147, -0.010215363763611344, -0.04582716613177341, -0.016270625328181382, 0.017379986908003082, -0.03045459648019723, -0.0013569860343994728, 0.009594650344606598, -0.006573623104627723, -0.03748054570182119, 0.010598358041497533, -0.01244068906857711, -0.004586018337764287, 0.030850795980050673, -0.01325290009218621, -0.0010730424463838472, -0.01945343493087885, -0.0030969656481932466, -0.019493053390748166, -0.0030012173115523287, 0.01563670389324183, 0.007983436313323206, 0.0352882385740474, 0.026281286265221117, -0.012902923060169486, -0.006847661495599446, -0.007184431908665139, -0.014738651010604177, 0.0030969656481932466, 0.023521090331601678, -0.006814645181052498, 0.027284993030789535, -0.00892110951847521, 0.015755564860784884, 0.00936353334881041, -0.005655759129410376, 0.011952041839082675, 0.028394354610611235, -0.022358902275975853, 0.006292981171349855, -0.011694511605384426, -0.018436520149375624, -0.024894584290443993, -0.030930036625079375, 0.018951580616772122, -0.015332951191706861, -0.029847089214482255, -0.021883462131093708, 0.000258974656714318, -0.008531513095266653, 0.019915667059826187, 0.012169952681589088, 0.007613649120049307, 0.0006632227621742065, 0.010948335073514257, -0.038642735620092045, 0.0021048140339227504, 0.028869794755493384, 0.0088616799660262, -0.007032555092236396, -0.006672673445252342, -0.002357391727306706, -0.0004770911759778265, 3.262977568466636e-05, 0.01570273838498076, -0.009687097142925073, -0.03510334497741045, 0.0009252927856887869, -0.03159037036659847, 0.023217337630066708, -0.012110522197817563, -0.014976371083045252, 0.002428377595206784, 0.006428349830505124, -0.018925166447547544, -0.016323451803985506, -0.013523636479174232, 0.009871990739562023, 0.004325186565743595, 0.00365494774359591, -0.005820842564790151, 0.012308621947744285, -0.011753942089155952, -0.010479498005276996, 0.016270625328181382, 0.008769233167707727, 0.005982624461847482, 0.0009261181702693977, 0.014091523422374854, -0.005493977232353045, 0.016495139247332685, 0.018740272850910594, -0.007673079138159575, 0.011536032177972054, -0.02725858072420999, 0.008498495849397188, -0.013800976874129655, 0.005632647429830758, -0.0015105136199894376, -0.027126513603377166, -0.005107681881805672, -0.010684200831848603, -0.0025637460215314238, 0.002642986200898868, -9.988838718968392e-06, 0.04297452526248052, 0.006662768364623754, 0.029477302021208355, -0.0060420544799577505, -0.02834152813480711, 0.006986331693077158, -0.007052365253493571, -0.005497279236336747, 0.019915667059826187, -0.01891196029425777, -0.006342506108831535, 0.033782677494372255, 0.008498495849397188, 0.018515760794404326, 0.0048171353335604745, -0.008023055704515041, -0.01292273322142666, -0.0028575945737603224, -0.020219421624006192, 0.018145973601130426, -0.004982218768940248, -0.01568953223169099, -0.02923958194876728, 0.036186294250652604, 0.0055038823129816335, 0.003047440477880937, -0.022530589719323032, -0.006131199274292524, -0.012387862592772986, 0.009422963832581937, -0.0006467144302777606, 0.02707368712757304, -0.021157095760480714, -0.011938835685792902, 0.009938024299978436, 0.001700359524110052, 0.024168217919831002, 0.003707774452230663, 0.01891196029425777, -0.00022244994838277268, 0.00936353334881041, -0.007237258850130521, 0.028103808062366037, 0.020774102413917042, 0.005404832438018272, -0.003892667816036984, -0.0010301207019623674, 0.0306130759076096, 0.010651184517301656, -0.007640062357951369, 0.017881839359464774, -0.01137094874259228, 0.0017515354635835834, -0.012876509822267424, 0.004338393184694626, 0.017736566085342177, 0.0006694133793594166, 0.0012694917763952918, -0.003816729407822612, 0.004077561412673934, 0.015412190905413048, 0.008914506441830325, 0.03116775669752045, 0.011998265238241912, 0.004856755190413568, -0.01165489221419259, -0.014699030688089827, -0.020153388994912296, -0.005348703958230447, -0.016231005005667033, -0.034020399429458364, -0.003773807779816447, 0.0037407909996082403, 0.009370136425455297, -0.002652891048696826, 0.03095644893165892, 0.03159037036659847, -0.02931882073115095, 0.021513674937819808, -0.009026763401405976, 0.010155934211162334, -0.026241665942706768, 0.041917992021107985, 0.002639684429745795, 0.014500930938163105, 0.014236796696497451, -0.010994558472673494, 0.016508345400622456, 0.003184459906197428, -0.007990039389968093, -0.011555841407906713, 0.007441962142363388, 0.01366890975329683, -0.002264944928988231, -0.003572406025906023, -0.0032504932337832117, -0.02744347432084694, -0.00495910706936063, 0.007422151981106213, -0.018779893173424943, 0.03539389152565565, -0.006151009435549699, 0.058796122752359306, -0.005913289363108626, -0.009033366478050862, 0.0038365395690797876, 0.02427387087143925, 0.01909685389089472, 0.014527344176065165, 0.004262455009310884, 0.002208816682031035, -0.012275605633197337, 0.029926327996865922, -0.003131633197562675, -0.00631279133260703, -0.029477302021208355, -0.039620028216435885, 0.00909279696182239, -0.007864575345780153, 0.007375928581946975, -0.0014675918755679578, -0.001178695863653353, 0.021751396872905913, 0.008406049051078713, 0.010618168202754708, 0.007455168761314419, -0.01790825352868935, -0.008273982861568404, 0.033888330445980504, -0.014183970220693329, -0.012856699661010247, -0.037084346201967745, -0.002540634321951805, -0.011232278545114568, -0.03481279842916526, -0.023930497847389928, -0.01106059110176739, -0.004998726926213723, -0.016098937884834207, -0.008901300288540553, -0.005860462421643243, 0.007818351946620915, -0.004018131394563665, 0.029926327996865922, -0.014434897377746692, -0.004780817015029825, 0.00979275009453332, -0.017446019537096978, -0.012097315113205272, -0.00515390528096491, 0.00019232221793350445]\n"
          ]
        }
      ]
    },
    {
      "cell_type": "markdown",
      "source": [
        "We're now ready to embed and index all our our data! We do this by looping through our dataset and embedding and inserting everything in batches."
      ],
      "metadata": {
        "id": "NKjBmTjF4wUz"
      }
    },
    {
      "cell_type": "code",
      "source": [
        "# to see progress bar\n",
        "from tqdm.auto import tqdm\n",
        "\n",
        "# this makes it easier to iterate over the dataset\n",
        "data = dataset.to_pandas()\n",
        "\n",
        "batch_size = 100\n",
        "\n",
        "for i in tqdm(range(0,len(data),batch_size)):\n",
        "  i_end = min(len(data),i+batch_size)\n",
        "\n",
        "  # Now get the different batches as the loop interates over i\n",
        "  batch = data.iloc[i:i_end]\n",
        "\n",
        "  # Lets now genrate the unique ids for each chunk\n",
        "  ids = [f\"{x['doi']}-{x['chunk-id']}\" for i, x in batch.iterrows()]\n",
        "\n",
        "  # Get the text for embedding\n",
        "  texts = [x['chunk'] for j,x in batch.iterrows()]\n",
        "\n",
        "  # Lets convert the text into embedding now\n",
        "  embeds = embed_model.embed_documents(texts)\n",
        "\n",
        "  # get metadada to store in Pinecone\n",
        "  metadata = [\n",
        "        {'text': x['chunk'],\n",
        "         'source': x['source'],\n",
        "         'title': x['title']} for i, x in batch.iterrows()\n",
        "    ]\n",
        "  # Add embedding to vectore database\n",
        "  index.upsert(vectors=zip(ids,embeds,metadata))"
      ],
      "metadata": {
        "colab": {
          "base_uri": "https://localhost:8080/",
          "height": 49,
          "referenced_widgets": [
            "3a0a958179fe4c9a9b7311b4e5ec8e17",
            "5aac156511284f6aa9c2d46b32a6aa47",
            "a26fa326f9bb46f1b8194881436c43c2",
            "15671468fe2b43b2a5e9bda756b77300",
            "0e358f6c8556450e8b0417f74729a562",
            "66cdb6173bd74f39b9090f68d048bb3c",
            "287a5f771b79467b9f14c7135e01109e",
            "b6c2905e9a8a40d8be6caea9076fe4b2",
            "8dc67cad9b0a4fdea977729a50aa2bef",
            "69efcafae5e948578f34d1bfd71a2030",
            "1a230a0f02af457080f7dd0ab444e7e3"
          ]
        },
        "id": "kopDqyFi4zUH",
        "outputId": "299db02e-4141-4c28-b5fe-9ae51a921cf5"
      },
      "execution_count": null,
      "outputs": [
        {
          "output_type": "display_data",
          "data": {
            "text/plain": [
              "  0%|          | 0/49 [00:00<?, ?it/s]"
            ],
            "application/vnd.jupyter.widget-view+json": {
              "version_major": 2,
              "version_minor": 0,
              "model_id": "3a0a958179fe4c9a9b7311b4e5ec8e17"
            }
          },
          "metadata": {}
        }
      ]
    },
    {
      "cell_type": "code",
      "source": [
        "index.describe_index_stats()"
      ],
      "metadata": {
        "colab": {
          "base_uri": "https://localhost:8080/"
        },
        "id": "nez1m6g27E4U",
        "outputId": "24c85948-99c6-42d8-ea1c-c54a51e5016f"
      },
      "execution_count": null,
      "outputs": [
        {
          "output_type": "execute_result",
          "data": {
            "text/plain": [
              "{'dimension': 1536,\n",
              " 'index_fullness': 0.04838,\n",
              " 'namespaces': {'': {'vector_count': 4838}},\n",
              " 'total_vector_count': 4838}"
            ]
          },
          "metadata": {},
          "execution_count": 26
        }
      ]
    },
    {
      "cell_type": "markdown",
      "source": [
        "# **Task 3: Retrieval Augmented Generation**\n",
        "\n",
        "\n",
        "\n",
        "*   Now we have done with building the vector data base for the RAG.\n",
        "*   Now we just need to connect that knowledge base to our chatbot.To do that we'll be diving back into LangChain and reusing our template prompt from earlier.\n",
        "\n",
        "To use LangChain here we need to load the LangChain abstraction for a vector index, called a `vectorstore`. We pass in our vector `index` to initialize the object.\n",
        "\n",
        "\n"
      ],
      "metadata": {
        "id": "u7aFeuP49p52"
      }
    },
    {
      "cell_type": "code",
      "source": [
        "from langchain.vectorstores import Pinecone\n",
        "\n",
        "# Select the field which contains our text.\n",
        "text_field = \"text\"\n",
        "\n",
        "# Initialize the vector store object\n",
        "vectorestore = Pinecone(\n",
        "    index,embed_model.embed_query,text_field\n",
        ")"
      ],
      "metadata": {
        "colab": {
          "base_uri": "https://localhost:8080/"
        },
        "id": "Z-D7Yk_Y-bfv",
        "outputId": "a020b776-9615-4f0c-ab5b-52e94d8f7bbd"
      },
      "execution_count": null,
      "outputs": [
        {
          "output_type": "stream",
          "name": "stderr",
          "text": [
            "/usr/local/lib/python3.10/dist-packages/langchain_community/vectorstores/pinecone.py:62: UserWarning: Passing in `embedding` as a Callable is deprecated. Please pass in an Embeddings object instead.\n",
            "  warnings.warn(\n"
          ]
        }
      ]
    },
    {
      "cell_type": "markdown",
      "source": [
        "So here by passing the query into `vectorestore` and using the `cosine similarity` we can find out relevant answer."
      ],
      "metadata": {
        "id": "m1LfebLt_ROo"
      }
    },
    {
      "cell_type": "code",
      "source": [
        "query = \"What is so special about Llama 2?\"\n",
        "\n",
        "vectorestore.similarity_search(query,k=3)"
      ],
      "metadata": {
        "colab": {
          "base_uri": "https://localhost:8080/"
        },
        "id": "PtOQCVQX_sh8",
        "outputId": "cf533515-470e-4998-ccac-84462689362e"
      },
      "execution_count": null,
      "outputs": [
        {
          "output_type": "execute_result",
          "data": {
            "text/plain": [
              "[Document(page_content='Alan Schelten Ruan Silva Eric Michael Smith Ranjan Subramanian Xiaoqing Ellen Tan Binh Tang\\nRoss Taylor Adina Williams Jian Xiang Kuan Puxin Xu Zheng Yan Iliyan Zarov Yuchen Zhang\\nAngela Fan Melanie Kambadur Sharan Narang Aurelien Rodriguez Robert Stojnic\\nSergey Edunov Thomas Scialom\\x03\\nGenAI, Meta\\nAbstract\\nIn this work, we develop and release Llama 2, a collection of pretrained and ﬁne-tuned\\nlarge language models (LLMs) ranging in scale from 7 billion to 70 billion parameters.\\nOur ﬁne-tuned LLMs, called L/l.sc/a.sc/m.sc/a.sc /two.taboldstyle-C/h.sc/a.sc/t.sc , are optimized for dialogue use cases. Our\\nmodels outperform open-source chat models on most benchmarks we tested, and based on\\nourhumanevaluationsforhelpfulnessandsafety,maybeasuitablesubstituteforclosedsource models. We provide a detailed description of our approach to ﬁne-tuning and safety', metadata={'source': 'http://arxiv.org/pdf/2307.09288', 'title': 'Llama 2: Open Foundation and Fine-Tuned Chat Models'}),\n",
              " Document(page_content='asChatGPT,BARD,andClaude. TheseclosedproductLLMsareheavilyﬁne-tunedtoalignwithhuman\\npreferences, which greatly enhances their usability and safety. This step can require signiﬁcant costs in\\ncomputeandhumanannotation,andisoftennottransparentoreasilyreproducible,limitingprogresswithin\\nthe community to advance AI alignment research.\\nIn this work, we develop and release Llama 2, a family of pretrained and ﬁne-tuned LLMs, L/l.sc/a.sc/m.sc/a.sc /two.taboldstyle and\\nL/l.sc/a.sc/m.sc/a.sc /two.taboldstyle-C/h.sc/a.sc/t.sc , at scales up to 70B parameters. On the series of helpfulness and safety benchmarks we tested,\\nL/l.sc/a.sc/m.sc/a.sc /two.taboldstyle-C/h.sc/a.sc/t.sc models generally perform better than existing open-source models. They also appear to\\nbe on par with some of the closed-source models, at least on the human evaluations we performed (see', metadata={'source': 'http://arxiv.org/pdf/2307.09288', 'title': 'Llama 2: Open Foundation and Fine-Tuned Chat Models'}),\n",
              " Document(page_content='Baptiste Rozière, Naman Goyal, Eric Hambro, Faisal Azhar, Aur’elien Rodriguez, Armand Joulin, Edouard\\nGrave, and Guillaume Lample. Llama: Open and eﬃcient foundation language models. arXiv preprint\\narXiv:2302.13971 , 2023.\\nAshish Vaswani, Noam Shazeer, Niki Parmar, Jakob Uszkoreit, Llion Jones, Aidan N. Gomez, Lukasz Kaiser,\\nand Illia Polosukhin. Attention is all you need, 2017.\\nOriol Vinyals, Igor Babuschkin, Wojciech M Czarnecki, Michaël Mathieu, Andrew Dudzik, Junyoung Chung,\\nDavid H Choi, Richard Powell, Timo Ewalds, Petko Georgiev, et al. Grandmaster level in starcraft ii using\\nmulti-agent reinforcement learning. Nature, 575(7782):350–354, 2019.\\nYizhong Wang, Yeganeh Kordi, Swaroop Mishra, Alisa Liu, Noah A Smith, Daniel Khashabi, and HannanehHajishirzi. Self-instruct: Aligninglanguagemodel withselfgeneratedinstructions. arXivpreprint', metadata={'source': 'http://arxiv.org/pdf/2307.09288', 'title': 'Llama 2: Open Foundation and Fine-Tuned Chat Models'})]"
            ]
          },
          "metadata": {},
          "execution_count": 28
        }
      ]
    },
    {
      "cell_type": "markdown",
      "source": [
        "So here it looks very messy.Fortunately, our LLM will be able to parse this information much faster than us. All we need is to connect the output from our `vectorstore` to our `chat` chatbot. To do that we can use the same logic as we used earlier."
      ],
      "metadata": {
        "id": "MM1bA8rdBl5A"
      }
    },
    {
      "cell_type": "code",
      "source": [
        "def augmented_prompt(query:str):\n",
        "  # Get the top 3 documents from knowledge base\n",
        "  results = vectorestore.similarity_search(query,k=3)\n",
        "\n",
        "  # Get the text from the result\n",
        "  source_knowledge = \"\\n\".join([x.page_content for x in results])\n",
        "\n",
        "  # Feed into an augmented prompt\n",
        "  augmented_prompt = f\"\"\"Using the contexts below,answer the query.\n",
        "\n",
        "          Contexts:\n",
        "          {source_knowledge}\n",
        "\n",
        "          Query : {query}\"\"\"\n",
        "\n",
        "  return augmented_prompt"
      ],
      "metadata": {
        "id": "zsPDPhpNB9Me"
      },
      "execution_count": null,
      "outputs": []
    },
    {
      "cell_type": "markdown",
      "source": [
        "Using this now we will going to produce the augmented prompt"
      ],
      "metadata": {
        "id": "OYBCJQPtDUMF"
      }
    },
    {
      "cell_type": "code",
      "source": [
        "print(augmented_prompt(query))"
      ],
      "metadata": {
        "colab": {
          "base_uri": "https://localhost:8080/"
        },
        "id": "6w_yoSuwDazl",
        "outputId": "0577de36-9279-47a5-89e2-fe9675060c9d"
      },
      "execution_count": null,
      "outputs": [
        {
          "output_type": "stream",
          "name": "stdout",
          "text": [
            "Using the contexts below,answer the query.\n",
            "\n",
            "          Contexts:\n",
            "          Alan Schelten Ruan Silva Eric Michael Smith Ranjan Subramanian Xiaoqing Ellen Tan Binh Tang\n",
            "Ross Taylor Adina Williams Jian Xiang Kuan Puxin Xu Zheng Yan Iliyan Zarov Yuchen Zhang\n",
            "Angela Fan Melanie Kambadur Sharan Narang Aurelien Rodriguez Robert Stojnic\n",
            "Sergey Edunov Thomas Scialom\u0003\n",
            "GenAI, Meta\n",
            "Abstract\n",
            "In this work, we develop and release Llama 2, a collection of pretrained and ﬁne-tuned\n",
            "large language models (LLMs) ranging in scale from 7 billion to 70 billion parameters.\n",
            "Our ﬁne-tuned LLMs, called L/l.sc/a.sc/m.sc/a.sc /two.taboldstyle-C/h.sc/a.sc/t.sc , are optimized for dialogue use cases. Our\n",
            "models outperform open-source chat models on most benchmarks we tested, and based on\n",
            "ourhumanevaluationsforhelpfulnessandsafety,maybeasuitablesubstituteforclosedsource models. We provide a detailed description of our approach to ﬁne-tuning and safety\n",
            "asChatGPT,BARD,andClaude. TheseclosedproductLLMsareheavilyﬁne-tunedtoalignwithhuman\n",
            "preferences, which greatly enhances their usability and safety. This step can require signiﬁcant costs in\n",
            "computeandhumanannotation,andisoftennottransparentoreasilyreproducible,limitingprogresswithin\n",
            "the community to advance AI alignment research.\n",
            "In this work, we develop and release Llama 2, a family of pretrained and ﬁne-tuned LLMs, L/l.sc/a.sc/m.sc/a.sc /two.taboldstyle and\n",
            "L/l.sc/a.sc/m.sc/a.sc /two.taboldstyle-C/h.sc/a.sc/t.sc , at scales up to 70B parameters. On the series of helpfulness and safety benchmarks we tested,\n",
            "L/l.sc/a.sc/m.sc/a.sc /two.taboldstyle-C/h.sc/a.sc/t.sc models generally perform better than existing open-source models. They also appear to\n",
            "be on par with some of the closed-source models, at least on the human evaluations we performed (see\n",
            "Baptiste Rozière, Naman Goyal, Eric Hambro, Faisal Azhar, Aur’elien Rodriguez, Armand Joulin, Edouard\n",
            "Grave, and Guillaume Lample. Llama: Open and eﬃcient foundation language models. arXiv preprint\n",
            "arXiv:2302.13971 , 2023.\n",
            "Ashish Vaswani, Noam Shazeer, Niki Parmar, Jakob Uszkoreit, Llion Jones, Aidan N. Gomez, Lukasz Kaiser,\n",
            "and Illia Polosukhin. Attention is all you need, 2017.\n",
            "Oriol Vinyals, Igor Babuschkin, Wojciech M Czarnecki, Michaël Mathieu, Andrew Dudzik, Junyoung Chung,\n",
            "David H Choi, Richard Powell, Timo Ewalds, Petko Georgiev, et al. Grandmaster level in starcraft ii using\n",
            "multi-agent reinforcement learning. Nature, 575(7782):350–354, 2019.\n",
            "Yizhong Wang, Yeganeh Kordi, Swaroop Mishra, Alisa Liu, Noah A Smith, Daniel Khashabi, and HannanehHajishirzi. Self-instruct: Aligninglanguagemodel withselfgeneratedinstructions. arXivpreprint\n",
            "\n",
            "          Query : What is so special about Llama 2?\n"
          ]
        }
      ]
    },
    {
      "cell_type": "code",
      "source": [
        "# Create a new prompt\n",
        "prompt = HumanMessage(\n",
        "    content = augmented_prompt(query)\n",
        ")\n",
        "\n",
        "# add to messages\n",
        "messages.append(prompt)\n",
        "\n",
        "#lets get the response from openAI\n",
        "response7 = chat(messages)\n",
        "\n",
        "print(response7.content)"
      ],
      "metadata": {
        "colab": {
          "base_uri": "https://localhost:8080/"
        },
        "id": "6FCrvYi0D4O_",
        "outputId": "6f602739-e94e-4084-ff29-c9e6eb697b91"
      },
      "execution_count": null,
      "outputs": [
        {
          "output_type": "stream",
          "name": "stdout",
          "text": [
            "Llama 2 is a collection of pretrained and fine-tuned large language models (LLMs) developed by the team mentioned in the provided contexts. These LLMs range in scale from 7 billion to 70 billion parameters and are optimized for dialogue use cases.\n",
            "\n",
            "The fine-tuned LLMs in Llama 2, specifically the L/l.sc/a.sc/m.sc/a.sc /two.taboldstyle-C/h.sc/a.sc/t.sc models, have been shown to outperform existing open-source chat models on various benchmarks for helpfulness and safety. They have also been evaluated in terms of human judgments and are considered to be on par with some of the closed-source models.\n",
            "\n",
            "What makes Llama 2 special is that it offers a detailed description of the approach used for fine-tuning and ensuring safety in these LLMs. This provides transparency and reproducibility, which are important factors for advancing AI alignment research within the community.\n",
            "\n",
            "Overall, Llama 2 represents a significant development in the field of large language models, providing pretrained and fine-tuned models that perform well in dialogue tasks and offer an alternative to closed-source models while emphasizing transparency and reproducibility.\n"
          ]
        }
      ]
    },
    {
      "cell_type": "markdown",
      "source": [
        "Lets ask more questions about the Llama 2. Lets try without RAG first\n"
      ],
      "metadata": {
        "id": "I0-X5cK_FBfh"
      }
    },
    {
      "cell_type": "code",
      "source": [
        "prompt = HumanMessage(\n",
        "    content = \"what safety measures were used in the development of llama 2?\"\n",
        ")\n",
        "\n",
        "# add to messages\n",
        "messages.append(prompt)\n",
        "\n",
        "response8 = chat(messages)\n",
        "\n",
        "print(response8.content)"
      ],
      "metadata": {
        "colab": {
          "base_uri": "https://localhost:8080/"
        },
        "id": "DFqp1BxwFZLe",
        "outputId": "7e99d233-a929-4ad0-b962-e5a45ce4f8c9"
      },
      "execution_count": null,
      "outputs": [
        {
          "output_type": "stream",
          "name": "stdout",
          "text": [
            "In the paper mentioned in the context, the developers of Llama 2 mention that they have taken safety measures in the fine-tuning process of their large language models (LLMs). However, the specific details of the safety measures employed in the development of Llama 2 are not explicitly mentioned in the given context.\n",
            "\n",
            "To understand the safety measures taken during the development of Llama 2, it would be necessary to refer to the original research paper or any additional information provided by the authors. The mentioned paper, \"Llama: Open and efficient foundation language models,\" might provide more insights into the safety considerations and techniques used in the development of Llama 2.\n"
          ]
        }
      ]
    },
    {
      "cell_type": "markdown",
      "source": [
        "The chatbot is able to respond about Llama 2 thanks to it's conversational history stored in `messages`. However, it doesn't know anything about the safety measures themselves as we have not provided it with that information via the RAG pipeline. Let's try again but with RAG."
      ],
      "metadata": {
        "id": "Z-YpSIrLGbQf"
      }
    },
    {
      "cell_type": "markdown",
      "source": [
        "# **Lets try using RAG now**"
      ],
      "metadata": {
        "id": "A36OMikxGn_t"
      }
    },
    {
      "cell_type": "code",
      "source": [
        "prompt = HumanMessage(\n",
        "    content=augmented_prompt(\n",
        "        \"what safety measures were used in the development of llama 2?\"\n",
        "    )\n",
        ")\n",
        "# add to messages\n",
        "messages.append(prompt)\n",
        "\n",
        "#lets get the response from openAI\n",
        "response9 = chat(messages)\n",
        "\n",
        "print(response9.content)"
      ],
      "metadata": {
        "colab": {
          "base_uri": "https://localhost:8080/"
        },
        "id": "p8Ae2peZGfbR",
        "outputId": "8538f8e9-6c07-4c5a-ed62-2d389447ae64"
      },
      "execution_count": null,
      "outputs": [
        {
          "output_type": "stream",
          "name": "stdout",
          "text": [
            "The development of Llama 2 involved safety measures aimed at enhancing the safety of the models. Some of the safety measures used include:\n",
            "\n",
            "1. Safety-Specific Data Annotation and Tuning: The models underwent safety-specific data annotation and tuning processes. This likely involved annotating and fine-tuning the models with data that emphasizes safety considerations, ensuring that the models prioritize safe and responsible responses.\n",
            "\n",
            "2. Red-Teaming: Red-teaming refers to the process of evaluating a system by simulating potential attacks or adversarial scenarios. Llama 2 underwent red-teaming, where the models were subjected to rigorous evaluations and tests to identify and address any potential safety vulnerabilities.\n",
            "\n",
            "3. Iterative Evaluations: The development process involved conducting iterative evaluations of the models. This likely means that the models were repeatedly assessed and refined to improve their safety performance, incorporating feedback and making necessary adjustments as required.\n",
            "\n",
            "By implementing these safety measures, the developers of Llama 2 aimed to enhance the safety of the models and ensure responsible development. The specific details of these safety measures may be further elaborated in the original research paper or technical documentation associated with Llama 2.\n"
          ]
        }
      ]
    },
    {
      "cell_type": "markdown",
      "source": [
        "We get a much more informed response that includes several items missing in the previous non-RAG response, such as `\"red-teaming\"`, `\"iterative evaluations\"`, and the intention of the researchers to share this research to help `\"improve their safety, promoting responsible development in the field\"`.\n"
      ],
      "metadata": {
        "id": "SnsDzXxBHFMm"
      }
    }
  ]
}